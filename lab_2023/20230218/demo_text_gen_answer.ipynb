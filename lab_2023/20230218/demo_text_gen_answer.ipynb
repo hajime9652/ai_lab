{
 "cells": [
  {
   "attachments": {},
   "cell_type": "markdown",
   "metadata": {},
   "source": [
    "# デモ実装（テキスト生成）の解答"
   ]
  },
  {
   "cell_type": "code",
   "execution_count": null,
   "metadata": {},
   "outputs": [],
   "source": [
    "!pip install transformers sentencepiece gradio"
   ]
  },
  {
   "cell_type": "code",
   "execution_count": null,
   "metadata": {},
   "outputs": [],
   "source": [
    "import gradio as gr\n",
    "from transformers import T5Tokenizer, AutoModelForCausalLM, GenerationConfig"
   ]
  },
  {
   "cell_type": "code",
   "execution_count": null,
   "metadata": {},
   "outputs": [],
   "source": [
    "# 0. モデルとトークナイザーの定義\n",
    "tokenizer = T5Tokenizer.from_pretrained(\"rinna/japanese-gpt2-small\")\n",
    "tokenizer.do_lower_case = True  # rinna/japanese-gpt2特有のハック\n",
    "model = AutoModelForCausalLM.from_pretrained(\n",
    "    \"rinna/japanese-gpt2-small\",\n",
    "    pad_token_id=tokenizer.eos_token_id  # warningを避けるために、padにEOSトークンを割りあてる\n",
    "    )"
   ]
  },
  {
   "attachments": {},
   "cell_type": "markdown",
   "metadata": {},
   "source": [
    "#### 課題その1の解答\n",
    "- GenerattionConfigの詳細はこちら：https://huggingface.co/docs/transformers/v4.26.0/en/main_classes/text_generation#transformers.GenerationConfig\n",
    "- 各パラメタを復習してください。"
   ]
  },
  {
   "cell_type": "code",
   "execution_count": null,
   "metadata": {},
   "outputs": [],
   "source": [
    "# 1. Gradioのコンポーネントのイベント処理用の関数の定義\n",
    "def generate(text, max_length, num_beams, p):\n",
    "    \"\"\"初回のテキスト生成\n",
    "\n",
    "    テキスト生成を行うが、デコード方法によって異なる結果になることを示すための処理を行う。\n",
    "    指定されたパラメタを使って、異なる４つデコード方法を同時に出力する。\n",
    "\n",
    "    Args:\n",
    "        str: Stateから取得（続きを生成するためのプロンプト）\n",
    "        int: Sliderから取得（全てのデコード方法に共通のパラメタ。生成する単語数）\n",
    "        int: Sliderから取得（Beam Searchのパラメタ）\n",
    "        int: Sliderから取得（Top-p Samplingのパラメタ）\n",
    "    \n",
    "    Returns:\n",
    "        str: State（生成結果を入出力の状態に反映）\n",
    "        str: TextArea（全文表示用のコンポーネントで使用）\n",
    "        str: TextArea（今回生成した文を表示するコンポーネントで使用）\n",
    "    \"\"\"\n",
    "    # テキスト生成用のconfigクラスを使って、４パターンの設定を定義する。\n",
    "    generate_config_list = [\n",
    "        GenerationConfig(\n",
    "            max_new_tokens=max_length,\n",
    "            no_repeat_ngram_size=3,\n",
    "            num_beams=1,  # beam幅の設定、２以上ではbeam searchになる。\n",
    "            do_sample=False  # Samplingの設定\n",
    "        ),\n",
    "        GenerationConfig(\n",
    "            max_new_tokens=max_length,\n",
    "            no_repeat_ngram_size=3,\n",
    "            num_beams=1,\n",
    "            do_sample=True\n",
    "        ),\n",
    "        GenerationConfig(\n",
    "            max_new_tokens=max_length,\n",
    "            no_repeat_ngram_size=3,\n",
    "            num_beams=num_beams,\n",
    "            do_sample=False\n",
    "        ),\n",
    "        GenerationConfig(\n",
    "            max_new_tokens=max_length,\n",
    "            no_repeat_ngram_size=3,\n",
    "            do_sample=True,\n",
    "            top_p=p  # Top-p Samplingのパラメタの設定\n",
    "        )\n",
    "    ]\n",
    "    generated_texts = []\n",
    "\n",
    "    inputs = tokenizer(text, add_special_tokens=False, return_tensors=\"pt\")[\"input_ids\"]\n",
    "    for generate_config in generate_config_list:\n",
    "        # テキスト生成\n",
    "        output = model.generate(inputs, generation_config=generate_config)\n",
    "        generated = tokenizer.decode(output[0], skip_special_tokens=True)\n",
    "        # 読みやすくさの処理を行なって、リストに追加\n",
    "        generated_texts.append(\"。\\n\".join(generated.replace(\" \", \"\").split(\"。\")))\n",
    "\n",
    "    # gradioはtupleを想定している。これと同じ処理：return generated_texts[0], generated_texts[1], generated_texts[2]\n",
    "    # pythonのタプルは「,」によって生成される。丸括弧は省略可能。参考：https://note.nkmk.me/python-function-return-multiple-values/\n",
    "    return tuple(generated_texts)\n",
    "\n"
   ]
  },
  {
   "cell_type": "code",
   "execution_count": null,
   "metadata": {},
   "outputs": [],
   "source": [
    "# 2. GradioによるUI/イベント処理の定義\n",
    "with gr.Blocks() as demo:\n",
    "    # 2.1. UI\n",
    "    gr.Markdown('''\n",
    "    # テキスト生成\n",
    "    テキストを入力すると、４パターンのデコード方法でテキスト生成を実行します。\n",
    "    ## ４つのパターン（入門編）\n",
    "    1. Greedy: ビームサーチもサンプリングも行いません。毎回、最も確率の高い単語を選択します。\n",
    "    2. Sampling: モデルによって与えられた語彙全体の確率分布に基づいて次の単語を選択します。\n",
    "    3. Beam Search: 各タイムステップで複数の仮説を保持し、最終的に仮説ごとのシーケンス全体で最も高い確率を持つ仮説を選択します。\n",
    "    4. Top-p Sampling: 2の方法に関して、確率の和がpになる最小の単語にフィルタリングすることで、確率が低い単語が選ばれる可能性を無くします。\n",
    "    ''')\n",
    "\n",
    "    with gr.Row():  # 行に分ける。なので、このブロック内にあるコンポーネントは横に並ぶ。\n",
    "        with gr.Column():  # さらに列に分ける。なので、このブロック内にあるコンポーネントは縦に並ぶ。\n",
    "            input_text = gr.Textbox(value=\"福岡のご飯は美味しい。\", label=\"プロンプト\")\n",
    "            max_length = gr.Slider(100, 1000, step=100, value=100, label=\"生成するテキストの長さ\")\n",
    "            num_beams = gr.Slider(1, 10, step=1, value=6, label=\"beam幅\")\n",
    "            p = gr.Slider(0, 1, step=0.01, value=0.92, label=\"p\")\n",
    "            btn1 = gr.Button(\"４パターンで生成\")\n",
    "        \n",
    "        with gr.Column():\n",
    "            out1 = gr.Textbox(label=\"Greedy\")\n",
    "            out2 = gr.Textbox(label=\"Sampling\")\n",
    "            out3 = gr.Textbox(label=\"Beam Search\")\n",
    "            out4 = gr.Textbox(label=\"Top-p Sampling\")\n",
    "            \n",
    "    # 2.2 イベント処理\n",
    "    btn1.click(fn=generate, inputs=[input_text, max_length, num_beams, p], outputs=[out1, out2, out3, out4])"
   ]
  },
  {
   "attachments": {},
   "cell_type": "markdown",
   "metadata": {},
   "source": [
    "### gradio appの立ち上げ\n",
    "https://localhost:7860/\n",
    "（もしくは出力に表示された別のURL）をクリックして、アクセスしてください。"
   ]
  },
  {
   "cell_type": "code",
   "execution_count": null,
   "metadata": {},
   "outputs": [],
   "source": [
    "demo.launch()"
   ]
  },
  {
   "attachments": {},
   "cell_type": "markdown",
   "metadata": {},
   "source": [
    "#### 課題その２の解答\n",
    "ヒント\n",
    "- gr.Stateは表示されませんが、他のコンポーネントと同様にinputs, outputsに使えます。"
   ]
  },
  {
   "cell_type": "code",
   "execution_count": null,
   "metadata": {},
   "outputs": [],
   "source": [
    "# 1. Gradioのコンポーネントのイベント処理用の関数の定義\n",
    "def select_out1(out1):\n",
    "    \"\"\"out1が生成された時に、out1を後続の処理のデフォルト値に入力\n",
    "    \"\"\"\n",
    "    return out1, out1, out1\n",
    "\n",
    "def select_out(radio, out1, out2, out3, out4):\n",
    "    \"\"\"後続の処理に使用する、初回の処理結果を選択する\n",
    "    \"\"\"\n",
    "    if radio == \"1.Greedy\":\n",
    "        out = out1\n",
    "    elif radio == \"2.Sampling\":\n",
    "        out = out2\n",
    "    elif radio == \"3.Beam Search\":\n",
    "        out = out3\n",
    "    else:\n",
    "        out = out4\n",
    "    return out, out, out\n",
    "\n",
    "def generate_next(now_text, radio, max_length, num_beams, p):\n",
    "    \"\"\"続き生成\n",
    "\n",
    "    これまで出力したテキストを入力して受け取り、続きを生成する。\n",
    "    デコード方法を指定することができるが、そのパラメタは初回のテキスト生成と同じになる。\n",
    "\n",
    "    Args:\n",
    "        str: Stateから取得（続きを生成するためのプロンプト）\n",
    "        str: Radioから取得（使用するデコード方法の名前）\n",
    "        int: Sliderから取得（初回のテキスト生成で使用した値をここでも使用）\n",
    "        int: Sliderから取得（初回のテキスト生成で使用した値をここでも使用）\n",
    "        int: Sliderから取得（初回のテキスト生成で使用した値をここでも使用）\n",
    "    \n",
    "    Returns:\n",
    "        str: State（生成結果を入出力の状態に反映）\n",
    "        str: TextArea（全文表示用のコンポーネントで使用）\n",
    "        str: TextArea（今回生成した文を表示するコンポーネントで使用）\n",
    "    \"\"\"\n",
    "    # デコード方法の指定に合わせて、cofingを定義\n",
    "    if radio == \"1.Greedy\":\n",
    "        generate_config = GenerationConfig(\n",
    "            max_new_tokens=max_length,\n",
    "            no_repeat_ngram_size=3,\n",
    "            num_beams=1,\n",
    "            do_sample=False\n",
    "        )\n",
    "    elif radio == \"2.Sampling\":\n",
    "        generate_config = GenerationConfig(\n",
    "            max_new_tokens=max_length,\n",
    "            no_repeat_ngram_size=3,\n",
    "            num_beams=1,\n",
    "            do_sample=True\n",
    "        )\n",
    "    elif radio == \"3.Beam Search\":\n",
    "        generate_config = GenerationConfig(\n",
    "            max_new_tokens=max_length,\n",
    "            no_repeat_ngram_size=3,\n",
    "            num_beams=num_beams,\n",
    "            do_sample=False\n",
    "        )\n",
    "    else:\n",
    "        generate_config = GenerationConfig(\n",
    "            max_new_tokens=max_length,\n",
    "            no_repeat_ngram_size=3,\n",
    "            do_sample=True,\n",
    "            top_p=p\n",
    "        )\n",
    "\n",
    "    # テキスト生成\n",
    "    inputs = tokenizer(now_text, add_special_tokens=False, return_tensors=\"pt\")[\"input_ids\"]\n",
    "    output = model.generate(inputs, generation_config=generate_config)\n",
    "    generated = tokenizer.decode(output[0], skip_special_tokens=True)\n",
    "    # 結果の整形処理\n",
    "    next_text = \"。\\n\".join(generated.replace(\" \", \"\").split(\"。\"))\n",
    "    gen_text = next_text[len(now_text)+1:]  # 今回生成したテキストを抽出\n",
    "\n",
    "    return next_text, next_text, gen_text\n"
   ]
  },
  {
   "cell_type": "code",
   "execution_count": null,
   "metadata": {},
   "outputs": [],
   "source": [
    "# 2. GradioによるUI/イベント処理の定義\n",
    "with gr.Blocks() as demo:\n",
    "    # 2.1. UI\n",
    "    gr.Markdown('''\n",
    "    # テキスト生成\n",
    "    テキストを入力すると、４パターンのデコード方法でテキスト生成を実行します。\n",
    "    ## ４つのパターン（入門編）\n",
    "    1. Greedy: ビームサーチもサンプリングも行いません。毎回、最も確率の高い単語を選択します。\n",
    "    2. Sampling: モデルによって与えられた語彙全体の確率分布に基づいて次の単語を選択します。\n",
    "    3. Beam Search: 各タイムステップで複数の仮説を保持し、最終的に仮説ごとのシーケンス全体で最も高い確率を持つ仮説を選択します。\n",
    "    4. Top-p Sampling: 2の方法に関して、確率の和がpになる最小の単語にフィルタリングすることで、確率が低い単語が選ばれる可能性を無くします。\n",
    "    ''')\n",
    "\n",
    "    with gr.Row():  # 行に分ける。なので、このブロック内にあるコンポーネントは横に並ぶ。\n",
    "        with gr.Column():  # さらに列に分ける。なので、このブロック内にあるコンポーネントは縦に並ぶ。\n",
    "            input_text = gr.Textbox(value=\"福岡のご飯は美味しい。\", label=\"プロンプト\")\n",
    "            max_length = gr.Slider(100, 1000, step=100, value=100, label=\"生成するテキストの長さ\")\n",
    "            num_beams = gr.Slider(1, 10, step=1, value=6, label=\"beam幅\")\n",
    "            p = gr.Slider(0, 1, step=0.01, value=0.92, label=\"p\")\n",
    "            btn1 = gr.Button(\"４パターンで生成\")\n",
    "        \n",
    "        with gr.Column():\n",
    "            out1 = gr.Textbox(label=\"Greedy\")\n",
    "            out2 = gr.Textbox(label=\"Sampling\")\n",
    "            out3 = gr.Textbox(label=\"Beam Search\")\n",
    "            out4 = gr.Textbox(label=\"Top-p Sampling\")\n",
    "    with gr.Row():\n",
    "        with gr.Column():\n",
    "            gr.Markdown(\"## どの結果の続きが気になりますか？\")\n",
    "            radio1 = gr.Radio(choices=[\"1.Greedy\", \"2.Sampling\", \"3.Beam Search\", \"4.Top-p Sampling\"], value=\"1.Greedy\", label=\"結果の選択\")\n",
    "            output_text = gr.Textbox(label=\"初回の結果\")\n",
    "            \n",
    "    with gr.Row():\n",
    "        with gr.Column():\n",
    "            gr.Markdown(f\"## どの方法で続きを生成しますか？\")\n",
    "            history = gr.State()\n",
    "            now_text = gr.TextArea(label=\"これまでの結果\")\n",
    "            radio2 = gr.Radio(choices=[\"1.Greedy\", \"2.Sampling\", \"3.Beam Search\", \"4.Top-p Sampling\"], value=\"1.Greedy\", label=\"続き生成のデコード方法\")\n",
    "            btn2 = gr.Button(\"続きを生成\")\n",
    "            next_text = gr.TextArea(label=\"今回の生成結果\")\n",
    "\n",
    "    # 2.2 イベント処理\n",
    "    btn1.click(fn=generate, inputs=[input_text, max_length, num_beams, p], outputs=[out1, out2, out3, out4])\n",
    "    out1.change(select_out1, inputs=[out1], outputs=[output_text, history, now_text])\n",
    "    radio1.change(select_out, inputs=[radio1, out1, out2, out3, out4], outputs=[output_text, history, now_text])\n",
    "    btn2.click(fn=generate_next, inputs=[history, radio2, max_length, num_beams, p], outputs=[history, now_text, next_text])\n"
   ]
  },
  {
   "attachments": {},
   "cell_type": "markdown",
   "metadata": {},
   "source": [
    "### gradio appの立ち上げ\n",
    "https://localhost:7860/\n",
    "（もしくは出力に表示された別のURL）をクリックして、アクセスしてください。"
   ]
  },
  {
   "cell_type": "code",
   "execution_count": null,
   "metadata": {},
   "outputs": [],
   "source": [
    "demo.launch()"
   ]
  }
 ],
 "metadata": {
  "colab": {
   "name": "デモ実装：テキスト生成",
   "provenance": []
  },
  "kernelspec": {
   "display_name": "Python 3 (ipykernel)",
   "language": "python",
   "name": "python3"
  },
  "language_info": {
   "codemirror_mode": {
    "name": "ipython",
    "version": 3
   },
   "file_extension": ".py",
   "mimetype": "text/x-python",
   "name": "python",
   "nbconvert_exporter": "python",
   "pygments_lexer": "ipython3",
   "version": "3.9.6 (default, Sep 26 2022, 11:37:49) \n[Clang 14.0.0 (clang-1400.0.29.202)]"
  },
  "vscode": {
   "interpreter": {
    "hash": "8a5edab282632443219e051e4ade2d1d5bbc671c781051bf1437897cbdfea0f1"
   }
  }
 },
 "nbformat": 4,
 "nbformat_minor": 1
}
