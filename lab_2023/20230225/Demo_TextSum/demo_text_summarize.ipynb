{
 "cells": [
  {
   "cell_type": "code",
   "execution_count": 1,
   "metadata": {},
   "outputs": [],
   "source": [
    "from transformers import T5ForConditionalGeneration, T5Tokenizer\n",
    "\n",
    "model = T5ForConditionalGeneration.from_pretrained(\"sonoisa/t5-base-japanese-question-generation\")\n",
    "tokenizer = T5Tokenizer.from_pretrained(\"sonoisa/t5-base-japanese-question-generation\")"
   ]
  },
  {
   "cell_type": "code",
   "execution_count": 5,
   "metadata": {},
   "outputs": [
    {
     "data": {
      "application/vnd.jupyter.widget-view+json": {
       "model_id": "6c003ad212b74a0f883d0269cf5f1df2",
       "version_major": 2,
       "version_minor": 0
      },
      "text/plain": [
       "  0%|          | 0/8 [00:00<?, ?it/s]"
      ]
     },
     "metadata": {},
     "output_type": "display_data"
    }
   ],
   "source": [
    "from tqdm.auto import tqdm\n",
    "\n",
    "INPUT_MAX_LEN = 512  # モデルに入力されるトークン列の最大長。最大長を超えたトークンは切り捨てられる。\n",
    "OUTPUT_MAX_LEN = 64  # モデルから出力されるトークン列の最大長。最大長を超えないように文が生成されるはず。\n",
    "\n",
    "answer_context_list = []\n",
    "\n",
    "# 出典: https://ja.wikipedia.org/wiki/アマビエ\n",
    "context = \"\"\"\n",
    "  アマビエ（歴史的仮名遣：アマビヱ）は、日本に伝わる半人半魚の妖怪。光輝く姿で海中から現れ、豊作や疫病などの予言をすると伝えられている。\n",
    "  江戸時代後期の肥後国（現・熊本県）に現れたという。この話は挿図付きで瓦版に取り上げられ、遠く江戸にまで伝えられた。\n",
    "  弘化3年4月中旬（1846年5月上旬）のこと、毎夜、海中に光る物体が出没していたため、役人が赴いたところ、それが姿を現した。\n",
    "  姿形について言葉では書き留められていないが、挿図が添えられている。 \n",
    "  その者は、役人に対して「私は海中に住むアマビエと申す者なり」と名乗り、\n",
    "  「当年より6ヶ年の間は諸国で豊作が続くが疫病も流行する。私の姿を描いた絵を人々に早々に見せよ。」と予言めいたことを告げ、海の中へと帰って行った。\n",
    "  年代が特定できる最古の例は、天保15年（1844年）の越後国（現・新潟県）に出現した「海彦（読みの推定：あまびこ）」を記述した瓦版（『坪川本』という。\n",
    "  福井県立図書館所蔵）、その挿絵に描かれた海彦は、頭からいきなり3本の足が生えた（胴体のない）形状で、人間のような耳をし、目はまるく、口が突出している。\n",
    "  その年中に日本人口の7割の死滅を予言し、その像の絵札による救済を忠告している。\n",
    "\"\"\"\n",
    "for answer in [\"アマビエ\", \"豊作や疫病など\", \"肥後国（現・熊本県）\", \"当年より6ヶ年\", \"私の姿を描いた絵\", \"天保15年（1844年）\", \"3本\", \"7割\"]:\n",
    "  answer_context_list.append((answer, context))\n",
    "\n",
    "generated_questions = []\n",
    "\n",
    "for answer, context in tqdm(answer_context_list):\n",
    "  # モデルに入力可能な形式に変換する。\n",
    "  input = f\"answer: {answer} context: {context}\"\n",
    "\n",
    "  # 入力文をトークナイズする。\n",
    "  tokenized_inputs = tokenizer.batch_encode_plus(\n",
    "      [input], max_length=INPUT_MAX_LEN, truncation=True, \n",
    "      padding=\"longest\", return_tensors=\"pt\")\n",
    "\n",
    "  input_ids = tokenized_inputs['input_ids']\n",
    "  input_mask = tokenized_inputs['attention_mask']\n",
    "\n",
    "  # 問題文を生成する。\n",
    "  tokenized_outputs = model.generate(input_ids=input_ids, attention_mask=input_mask, \n",
    "    max_length=OUTPUT_MAX_LEN, return_dict_in_generate=True, decoder_start_token_id=0,\n",
    "    temperature=0.0,  # 生成にランダム性を入れる温度パラメータ\n",
    "    num_beams=4,  # ビームサーチの探索幅\n",
    "    # diversity_penalty=1.0,  # 生成結果の多様性を生み出すためのペナルティパラメータ\n",
    "    # num_beam_groups=4,  # ビームサーチのグループ\n",
    "    num_return_sequences=1,  # 生成する文の数\n",
    "    )\n",
    "\n",
    "  # 生成された問題文のトークン列を文字列に変換する。\n",
    "  outputs = [tokenizer.decode(ids, skip_special_tokens=True, clean_up_tokenization_spaces=False) \n",
    "    for ids in tokenized_outputs.sequences]\n",
    "\n",
    "  generated_questions.append([outputs, answer])"
   ]
  },
  {
   "cell_type": "code",
   "execution_count": 3,
   "metadata": {},
   "outputs": [
    {
     "data": {
      "text/plain": [
       "[['半人半魚の妖怪の名前は何ですか?'],\n",
       " ['アマビエは海中から何を予言すると言われていますか?'],\n",
       " ['江戸時代のどの国にアマビエが現れたのですか?'],\n",
       " ['諸国で豊作が続くが疫病も流行するのはどのくらいの期間ですか?'],\n",
       " ['瓦版に描かれたアマビエの絵は何ですか?'],\n",
       " ['海彦が初めて登場したのはいつですか?'],\n",
       " ['「海彦」には足がいくつありましたか?'],\n",
       " ['海彦は、その年の日本人口の何パーセントの死を予言したのだろうか']]"
      ]
     },
     "execution_count": 3,
     "metadata": {},
     "output_type": "execute_result"
    }
   ],
   "source": [
    "generated_questions"
   ]
  },
  {
   "cell_type": "code",
   "execution_count": null,
   "metadata": {},
   "outputs": [],
   "source": []
  }
 ],
 "metadata": {
  "kernelspec": {
   "display_name": ".env",
   "language": "python",
   "name": "python3"
  },
  "language_info": {
   "codemirror_mode": {
    "name": "ipython",
    "version": 3
   },
   "file_extension": ".py",
   "mimetype": "text/x-python",
   "name": "python",
   "nbconvert_exporter": "python",
   "pygments_lexer": "ipython3",
   "version": "3.9.6"
  },
  "orig_nbformat": 4,
  "vscode": {
   "interpreter": {
    "hash": "82e52f2285c871893785b6211b1b0fb91a1e90d57630bc3da094798a3ae6fb15"
   }
  }
 },
 "nbformat": 4,
 "nbformat_minor": 2
}
