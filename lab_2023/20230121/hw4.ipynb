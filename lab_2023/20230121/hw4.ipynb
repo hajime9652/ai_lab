{
  "cells": [
    {
      "cell_type": "code",
      "execution_count": null,
      "metadata": {},
      "outputs": [],
      "source": [
        "# !pip install gensim"
      ]
    },
    {
      "attachments": {},
      "cell_type": "markdown",
      "metadata": {},
      "source": [
        "# 整形処理\n",
        "1. テキストデータの読み込み\n",
        "2. 整形処理\n",
        "3. 辞書・コーパスの作成\n",
        "\n",
        "👇を参照してノートブック内で、`NotImplementedError`が発生する箇所を実装してください。\n",
        "https://radimrehurek.com/gensim/auto_examples/core/run_corpora_and_vector_spaces.html\n"
      ]
    },
    {
      "cell_type": "code",
      "execution_count": null,
      "metadata": {},
      "outputs": [],
      "source": [
        "import logging\n",
        "logging.basicConfig(format='%(asctime)s : %(levelname)s : %(message)s', level=logging.INFO)"
      ]
    },
    {
      "cell_type": "code",
      "execution_count": null,
      "metadata": {},
      "outputs": [],
      "source": [
        "import os\n",
        "\n",
        "# Load the livedoor news corpus\n",
        "# １行目：記事のURL\n",
        "# ２行目：記事の日付\n",
        "# ３行目：記事のタイトル\n",
        "# ４行目以降：記事の本文\n",
        "\n",
        "path_to_corpus = '../../text'  # 事前にDLして解凍が必要（https://www.rondhuit.com/download.html）\n",
        "skip_files = ['LICENSE.txt', 'CHANGES.txt', 'README.txt']\n",
        "documents = []\n",
        "for category in os.listdir(path_to_corpus):\n",
        "    raise NotImplementedError(\"演習1-1: 記事の本文の文字列をdocumentsに追加する処理をここに書いてください。\")\n"
      ]
    },
    {
      "cell_type": "code",
      "execution_count": null,
      "metadata": {},
      "outputs": [],
      "source": [
        "import re\n",
        "import requests\n",
        "from fugashi import Tagger\n",
        "\n",
        "# ストップワードの準備\n",
        "url = \"http://svn.sourceforge.jp/svnroot/slothlib/CSharp/Version1/SlothLib/NLP/Filter/StopWord/word/Japanese.txt\"\n",
        "r = requests.get(url)\n",
        "tmp = r.text.split('\\r\\n')\n",
        "stopwords = []\n",
        "for i in range(len(tmp)):\n",
        "    if len(tmp[i]) < 1:\n",
        "        continue\n",
        "    stopwords.append(tmp[i])\n",
        "\n",
        "# 全角半角文字以外（記号と数字）を正規表現を使って除去. List[str]->List[str]\n",
        "raise NotImplementedError(\"演習1-2: 正規表現で全角半角文字以外とマッチさせて、空文字で置き換えます。\")\n",
        "\n",
        "# Mecabで分かち書きして、単語に分割. List[str]->List[List[str]]\n",
        "raise NotImplementedError(\"演習1-3: Taggerに分かち書きになるように指定します。単語のリストに変換してください。\")\n",
        "\n",
        "# ストップワードの除去. List[List[str]]->List[List[str]]\n",
        "raise NotImplementedError(\"演習1-4: stopwordsに含まれる単語は追加しないようにします。\")\n",
        "\n",
        "# 1文字は除去. List[List[str]]->List[List[str]]\n",
        "raise NotImplementedError(\"演習1-5: 単語の長さが1の単語は追加しないようにします。\")\n",
        "\n",
        "\n",
        "print(sum([sum(text) for text in documents]))"
      ]
    },
    {
      "cell_type": "code",
      "execution_count": null,
      "metadata": {},
      "outputs": [],
      "source": [
        "from gensim.corpora import Dictionary, MmCorpus\n",
        "from sklearn.model_selection import train_test_split\n",
        "\n",
        "# 辞書の作成、保存、読み込み\n",
        "raise NotImplementedError(\"演習1-6: Dictionaryを使って辞書を作成します。保存・読み込みの処理も書いてください。\")\n",
        "\n",
        "# コーパスの作成、分割、保存、読み込み\n",
        "raise NotImplementedError(\"演習1-7: Dictionaryを使ってコーパスを作成します。trainとtestに8:2に分割する処理、trainとtestそれぞれを保存・読み込みの処理も書いてください。\")\n"
      ]
    },
    {
      "attachments": {},
      "cell_type": "markdown",
      "metadata": {},
      "source": [
        "# TFIDF\n",
        "1. コーパスの読み込み\n",
        "1. TFIDFに変換\n",
        "1. 新規データをTFIDFに変換\n",
        "\n",
        "\n",
        "👇を参照してノートブック内で、`NotImplementedError`が発生する箇所を実装してください。\n",
        "https://radimrehurek.com/gensim/auto_examples/core/run_topics_and_transformations.html"
      ]
    },
    {
      "cell_type": "code",
      "execution_count": null,
      "metadata": {},
      "outputs": [],
      "source": [
        "from gensim.corpora import Dictionary, MmCorpus\n",
        "from gensim import models\n",
        "\n",
        "# 演習1-6,7で作成した辞書、コーパスを読み込む\n",
        "dictionary = ...\n",
        "corpus_train = ...\n",
        "corpus_test = ...\n",
        "\n",
        "# corpus_trainをTFIDFモデルの作成と保存\n",
        "tfidf = ...\n",
        "raise NotImplementedError(\"演習2-1: models.TfidfModelを使います。\")\n",
        "\n",
        "# corpus_test[0][:10]を使って、変換前の値（BagOfWords）と変換後の値（TFIDF）をプリントして比較\n",
        "raise NotImplementedError(\"演習2-2: 変換によって変わるのは値だけです。（token_id, value）という構造は変わりません。単語がidになっているので、文字列に変換して、表示させてください。\")"
      ]
    },
    {
      "attachments": {},
      "cell_type": "markdown",
      "metadata": {},
      "source": [
        "# 　類似度:similarities\n",
        "- 類似度：コサイン類似度\n",
        "- ベクトルの似ている度合いを定量化する\n",
        "- modelと同じように、__getitem__で計算を行う\n",
        "\n",
        "👇を参照してノートブック内で、`NotImplementedError`が発生する箇所を実装してください。\n",
        "https://radimrehurek.com/gensim/auto_examples/core/run_similarity_queries.html\n",
        "https://radimrehurek.com/gensim/similarities/docsim.html"
      ]
    },
    {
      "cell_type": "code",
      "execution_count": null,
      "metadata": {},
      "outputs": [],
      "source": [
        "from gensim.corpora import MmCorpus\n",
        "from gensim import models\n",
        "from gensim import similarities\n",
        "import numpy as np\n",
        "\n",
        "# 演習2-1で作成したコーパスとTFIDFモデルを読み込む\n",
        "corpus_test = ...\n",
        "tfidf = ...\n",
        "\n",
        "# クエリを受け取り、TFIDFモデルを使って、類似度を計算するためのモジュールを呼び出します。\n",
        "index = ...\n",
        "raise NotImplementedError(\"演習3-1: similarities.MatrixSimilarity()を使います。\")\n",
        "\n",
        "# TFIDFモデルを作るときに使ったコーパスの先頭から５個（corpus_test[:5]）それぞれをクエリーとして類似度を計算して、最も似ているドキュメントのインデックをprintしてください。\n",
        "for i in range(5):\n",
        "    best_sim_id = ...\n",
        "    raise NotImplementedError(\"演習3-2: 最も似ているドキュメントのインデックをbest_sim_idに代入してください\")\n",
        "    print(f\"{i}と最も似ているのはドキュメントは{best_sim_id}\")"
      ]
    },
    {
      "attachments": {},
      "cell_type": "markdown",
      "metadata": {
        "id": "N90y8CPKK1Tt"
      },
      "source": [
        "### BagOfWordsとTFIDFの類似度行列\n",
        "1. TFIDFモデルを使って、変換前のコーパス（BagOfWOrds）との類似度行列の計算してください\n",
        "1. numpyを使ってに、上記と同じ類似度の計算を行なってください\n",
        "1. 行列の値をそのまま、mtaplotlibで可視化し、numpyで実装した類似度行列とgensimの類似度行列が同じであることを確認してください\n",
        "\n",
        "\n",
        "![cosine_sim.png](./cosine_sim.png)"
      ]
    },
    {
      "cell_type": "code",
      "execution_count": null,
      "metadata": {},
      "outputs": [],
      "source": [
        "from gensim.corpora import MmCorpus\n",
        "from gensim import models\n",
        "from gensim import similarities\n",
        "import numpy as np\n",
        "\n",
        "tfidf = models.TfidfModel.load('tfidf.model')\n",
        "corpus_test = MmCorpus('doc_test.mm')\n",
        "\n",
        "index = similarities.MatrixSimilarity(tfidf[corpus_test[:10]], num_features=corpus_test.num_terms)\n",
        "similarity_gensim = ...\n",
        "\n",
        "raise NotImplementedError(\"演習3-3: corpus_test[:10]をクエリーとして使って、類似度行列をsimilarity_gensimに代入してください。\")\n",
        "\n",
        "similarity_gensim.shape\n"
      ]
    },
    {
      "cell_type": "code",
      "execution_count": null,
      "metadata": {
        "id": "KPDOcnyoK1Tw"
      },
      "outputs": [],
      "source": [
        "import numpy as np\n",
        "from gensim.corpora import MmCorpus\n",
        "from gensim import matutils\n",
        "from gensim import models\n",
        "from gensim import similarities\n",
        "\n",
        "tfidf = models.TfidfModel.load('tfidf.model')\n",
        "corpus_test = MmCorpus('doc_test.mm')\n",
        "\n",
        "A_bow = matutils.corpus2dense(corpus_test[:10], num_docs=10, num_terms=corpus_test.num_terms).T\n",
        "A_tfidf = matutils.corpus2dense(tfidf[corpus_test[:10]], num_docs=10, num_terms=corpus_test.num_terms).T\n",
        "A_tfidf_norm = ...\n",
        "A_bow_norm = ...\n",
        "similarity_matrix = ...\n",
        "raise NotImplementedError(\"演習3-4: コーパスの各行がドキュメントです。行方向に正規化してから内積を取ります。\")\n",
        "\n",
        "\n",
        "\n",
        "similarity_matrix.shape"
      ]
    },
    {
      "cell_type": "code",
      "execution_count": null,
      "metadata": {},
      "outputs": [],
      "source": [
        "import matplotlib.pyplot as plt\n",
        "\n",
        "fig, ax = plt.subplots(1,2)\n",
        "plt.subplots_adjust(wspace=0.4, hspace=0.6)\n",
        "\n",
        "im_0 = ax[0].imshow(similarity_gensim, cmap='hot')\n",
        "axpos = ax[0].get_position()\n",
        "cbar_ax = fig.add_axes([0.46, axpos.y0, 0.02, axpos.height])\n",
        "cbar = fig.colorbar(im_0, cax=cbar_ax)\n",
        "\n",
        "im_1 = ax[1].imshow(similarity_matrix, cmap='hot')\n",
        "axpos = ax[1].get_position()\n",
        "cbar_ax = fig.add_axes([0.92, axpos.y0, 0.02, axpos.height])\n",
        "cbar = fig.colorbar(im_1, cax=cbar_ax)"
      ]
    }
  ],
  "metadata": {
    "colab": {
      "name": "Integrations with the Hugging Face Hub",
      "provenance": []
    },
    "kernelspec": {
      "display_name": ".venv",
      "language": "python",
      "name": "python3"
    },
    "language_info": {
      "codemirror_mode": {
        "name": "ipython",
        "version": 3
      },
      "file_extension": ".py",
      "mimetype": "text/x-python",
      "name": "python",
      "nbconvert_exporter": "python",
      "pygments_lexer": "ipython3",
      "version": "3.9.6"
    },
    "vscode": {
      "interpreter": {
        "hash": "eaac4ee8e735b6cee17c1b0358cfc8773b6176eb143c6cf3f1e52e7612ffbee2"
      }
    }
  },
  "nbformat": 4,
  "nbformat_minor": 0
}
