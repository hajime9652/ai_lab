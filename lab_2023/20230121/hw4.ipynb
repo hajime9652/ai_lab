{
  "cells": [
    {
      "cell_type": "code",
      "execution_count": null,
      "metadata": {},
      "outputs": [],
      "source": [
        "# !pip install gensim\n",
        "# !pip install fugashi[unidic]\n",
        "# !python -m unidic download"
      ]
    },
    {
      "attachments": {},
      "cell_type": "markdown",
      "metadata": {},
      "source": [
        "# 整形処理\n",
        "1. テキストデータの読み込み\n",
        "2. 整形処理\n",
        "3. 辞書・コーパスの作成\n",
        "\n",
        "👇を参照してノートブック内で、`NotImplementedError`が発生する箇所を実装してください。\n",
        "https://radimrehurek.com/gensim/auto_examples/core/run_corpora_and_vector_spaces.html\n"
      ]
    },
    {
      "cell_type": "code",
      "execution_count": null,
      "metadata": {},
      "outputs": [],
      "source": [
        "import logging\n",
        "logging.basicConfig(format='%(asctime)s : %(levelname)s : %(message)s', level=logging.INFO)"
      ]
    },
    {
      "cell_type": "code",
      "execution_count": null,
      "metadata": {},
      "outputs": [],
      "source": [
        "import os\n",
        "\n",
        "# Load the livedoor news corpus\n",
        "# １行目：記事のURL\n",
        "# ２行目：記事の日付\n",
        "# ３行目：記事のタイトル\n",
        "# ４行目以降：記事の本文\n",
        "\n",
        "path_to_corpus = '../../text'  # 事前にDLして解凍が必要（https://www.rondhuit.com/download.html）\n",
        "skip_files = ['LICENSE.txt', 'CHANGES.txt', 'README.txt']\n",
        "documents = []\n",
        "for category in os.listdir(path_to_corpus):\n",
        "    raise NotImplementedError(\"演習1-1: 記事の本文の文字列をdocumentsに追加する処理をここに書いてください。\")\n"
      ]
    },
    {
      "cell_type": "code",
      "execution_count": null,
      "metadata": {},
      "outputs": [],
      "source": [
        "import re\n",
        "import requests\n",
        "from fugashi import Tagger\n",
        "\n",
        "# ストップワードの準備\n",
        "url = \"http://svn.sourceforge.jp/svnroot/slothlib/CSharp/Version1/SlothLib/NLP/Filter/StopWord/word/Japanese.txt\"\n",
        "r = requests.get(url)\n",
        "tmp = r.text.split('\\r\\n')\n",
        "stopwords = []\n",
        "for i in range(len(tmp)):\n",
        "    if len(tmp[i]) < 1:\n",
        "        continue\n",
        "    stopwords.append(tmp[i])\n",
        "\n",
        "# 全角半角文字以外（記号と数字）を正規表現を使って除去. List[str]->List[str]\n",
        "raise NotImplementedError(\"演習1-2: 正規表現で全角半角文字以外とマッチさせて、空文字で置き換えます。\")\n",
        "\n",
        "# Mecabで分かち書きして、単語に分割. List[str]->List[List[str]]\n",
        "raise NotImplementedError(\"演習1-3: Taggerに分かち書きになるように指定します。単語のリストに変換してください。\")\n",
        "\n",
        "# ストップワードの除去. List[List[str]]->List[List[str]]\n",
        "raise NotImplementedError(\"演習1-4: stopwordsに含まれる単語は追加しないようにします。\")\n",
        "\n",
        "# 1文字は除去. List[List[str]]->List[List[str]]\n",
        "raise NotImplementedError(\"演習1-5: 単語の長さが1の単語は追加しないようにします。\")\n",
        "\n",
        "\n",
        "print(sum([sum(text) for text in documents]))"
      ]
    },
    {
      "cell_type": "code",
      "execution_count": null,
      "metadata": {},
      "outputs": [],
      "source": [
        "from gensim.corpora import Dictionary, MmCorpus\n",
        "from sklearn.model_selection import train_test_split\n",
        "\n",
        "# 辞書の作成、保存、読み込み\n",
        "raise NotImplementedError(\"演習1-6: Dictionaryを使って辞書を作成します。保存・読み込みの処理も書いてください。\")\n",
        "\n",
        "# コーパスの作成、分割、保存、読み込み\n",
        "raise NotImplementedError(\"演習1-7: Dictionaryを使ってコーパスを作成します。trainとtestに8:2に分割する処理、trainとtestそれぞれを保存・読み込みの処理も書いてください。\")\n"
      ]
    },
    {
      "attachments": {},
      "cell_type": "markdown",
      "metadata": {},
      "source": [
        "# TFIDF\n",
        "1. コーパスの読み込み\n",
        "1. TFIDFに変換\n",
        "1. 新規データをTFIDFに変換\n",
        "\n",
        "\n",
        "👇を参照してノートブック内で、`NotImplementedError`が発生する箇所を実装してください。\n",
        "https://radimrehurek.com/gensim/auto_examples/core/run_topics_and_transformations.html"
      ]
    },
    {
      "cell_type": "code",
      "execution_count": null,
      "metadata": {},
      "outputs": [],
      "source": [
        "from gensim.corpora import Dictionary, MmCorpus\n",
        "from gensim import models\n",
        "\n",
        "# 演習1-6,7で作成した辞書、コーパスを読み込む\n",
        "dictionary = ...\n",
        "corpus_train = ...\n",
        "corpus_test = ...\n",
        "\n",
        "# corpus_trainをTFIDFモデルの作成と保存\n",
        "tfidf = ...\n",
        "raise NotImplementedError(\"演習2-1: models.TfidfModelを使います。\")\n",
        "\n",
        "# corpus_test[0][:10]を使って、変換前の値（BagOfWords）と変換後の値（TFIDF）をプリントして比較\n",
        "raise NotImplementedError(\"演習2-2: 変換によって変わるのは値だけです。（token_id, value）という構造は変わりません。単語がidになっているので、文字列に変換して、表示させてください。\")"
      ]
    },
    {
      "attachments": {},
      "cell_type": "markdown",
      "metadata": {},
      "source": [
        "# 　類似度:similarities\n",
        "- 類似度：コサイン類似度\n",
        "- ベクトルの似ている度合いを定量化する\n",
        "- modelと同じように、__getitem__で計算を行う\n",
        "\n",
        "👇を参照してノートブック内で、`NotImplementedError`が発生する箇所を実装してください。\n",
        "https://radimrehurek.com/gensim/auto_examples/core/run_similarity_queries.html\n",
        "https://radimrehurek.com/gensim/similarities/docsim.html"
      ]
    },
    {
      "cell_type": "code",
      "execution_count": null,
      "metadata": {},
      "outputs": [],
      "source": [
        "from gensim.corpora import MmCorpus\n",
        "from gensim import models\n",
        "from gensim import similarities\n",
        "import numpy as np\n",
        "\n",
        "# 演習2-1で作成したコーパスとTFIDFモデルを読み込む\n",
        "corpus_test = ...\n",
        "tfidf = ...\n",
        "\n",
        "# クエリを受け取り、TFIDFモデルを使って、類似度を計算するためのモジュールを呼び出します。\n",
        "index = ...\n",
        "raise NotImplementedError(\"演習3-1: similarities.MatrixSimilarity()を使います。\")\n",
        "\n",
        "# TFIDFモデルを作るときに使ったコーパスの先頭から５個（corpus_test[:5]）それぞれをクエリーとして類似度を計算して、最も似ているドキュメントのインデックをprintしてください。\n",
        "for i in range(5):\n",
        "    best_sim_id = ...\n",
        "    raise NotImplementedError(\"演習3-2: 最も似ているドキュメントのインデックをbest_sim_idに代入してください\")\n",
        "    print(f\"{i}と最も似ているのはドキュメントは{best_sim_id}\")"
      ]
    },
    {
      "attachments": {},
      "cell_type": "markdown",
      "metadata": {
        "id": "N90y8CPKK1Tt"
      },
      "source": [
        "### BagOfWordsとTFIDFの類似度行列\n",
        "1. TFIDFモデルを使って、変換前のコーパス（BagOfWOrds）との類似度行列の計算してください\n",
        "1. numpyを使ってに、上記と同じ類似度の計算を行なってください\n",
        "1. 行列の値をそのまま、mtaplotlibで可視化し、numpyで実装した類似度行列とgensimの類似度行列が同じであることを確認してください\n",
        "\n",
        "![cosine_sim](data:image/png;base64,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)\n",
        "\n"
      ]
    },
    {
      "cell_type": "code",
      "execution_count": null,
      "metadata": {},
      "outputs": [],
      "source": [
        "from gensim.corpora import MmCorpus\n",
        "from gensim import models\n",
        "from gensim import similarities\n",
        "import numpy as np\n",
        "\n",
        "tfidf = models.TfidfModel.load('tfidf.model')\n",
        "corpus_test = MmCorpus('doc_test.mm')\n",
        "\n",
        "index = similarities.MatrixSimilarity(tfidf[corpus_test[:10]], num_features=corpus_test.num_terms)\n",
        "similarity_gensim = ...\n",
        "\n",
        "raise NotImplementedError(\"演習3-3: corpus_test[:10]をクエリーとして使って、類似度行列をsimilarity_gensimに代入してください。\")\n",
        "\n",
        "similarity_gensim.shape\n"
      ]
    },
    {
      "cell_type": "code",
      "execution_count": null,
      "metadata": {
        "id": "KPDOcnyoK1Tw"
      },
      "outputs": [],
      "source": [
        "import numpy as np\n",
        "from gensim.corpora import MmCorpus\n",
        "from gensim import matutils\n",
        "from gensim import models\n",
        "from gensim import similarities\n",
        "\n",
        "tfidf = models.TfidfModel.load('tfidf.model')\n",
        "corpus_test = MmCorpus('doc_test.mm')\n",
        "\n",
        "A_bow = matutils.corpus2dense(corpus_test[:10], num_docs=10, num_terms=corpus_test.num_terms).T\n",
        "A_tfidf = matutils.corpus2dense(tfidf[corpus_test[:10]], num_docs=10, num_terms=corpus_test.num_terms).T\n",
        "A_tfidf_norm = ...\n",
        "A_bow_norm = ...\n",
        "similarity_matrix = ...\n",
        "raise NotImplementedError(\"演習3-4: コーパスの各行がドキュメントです。行方向に正規化してから内積を取ります。\")\n",
        "\n",
        "\n",
        "\n",
        "similarity_matrix.shape"
      ]
    },
    {
      "cell_type": "code",
      "execution_count": null,
      "metadata": {},
      "outputs": [],
      "source": [
        "import matplotlib.pyplot as plt\n",
        "\n",
        "fig, ax = plt.subplots(1,2)\n",
        "plt.subplots_adjust(wspace=0.4, hspace=0.6)\n",
        "\n",
        "im_0 = ax[0].imshow(similarity_gensim, cmap='hot')\n",
        "axpos = ax[0].get_position()\n",
        "cbar_ax = fig.add_axes([0.46, axpos.y0, 0.02, axpos.height])\n",
        "cbar = fig.colorbar(im_0, cax=cbar_ax)\n",
        "\n",
        "im_1 = ax[1].imshow(similarity_matrix, cmap='hot')\n",
        "axpos = ax[1].get_position()\n",
        "cbar_ax = fig.add_axes([0.92, axpos.y0, 0.02, axpos.height])\n",
        "cbar = fig.colorbar(im_1, cax=cbar_ax)"
      ]
    }
  ],
  "metadata": {
    "colab": {
      "name": "hw4",
      "provenance": []
    },
    "kernelspec": {
      "display_name": ".venv",
      "language": "python",
      "name": "python3"
    },
    "language_info": {
      "codemirror_mode": {
        "name": "ipython",
        "version": 3
      },
      "file_extension": ".py",
      "mimetype": "text/x-python",
      "name": "python",
      "nbconvert_exporter": "python",
      "pygments_lexer": "ipython3",
      "version": "3.9.6 (default, Sep 26 2022, 11:37:49) \n[Clang 14.0.0 (clang-1400.0.29.202)]"
    },
    "vscode": {
      "interpreter": {
        "hash": "eaac4ee8e735b6cee17c1b0358cfc8773b6176eb143c6cf3f1e52e7612ffbee2"
      }
    }
  },
  "nbformat": 4,
  "nbformat_minor": 0
}
