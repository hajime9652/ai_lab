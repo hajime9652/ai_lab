{
  "cells": [
    {
      "cell_type": "code",
      "execution_count": null,
      "metadata": {},
      "outputs": [],
      "source": [
        "# !pip install gensim\n",
        "# !pip install fugashi[unidic]\n",
        "# !python -m unidic download"
      ]
    },
    {
      "attachments": {},
      "cell_type": "markdown",
      "metadata": {},
      "source": [
        "# 整形処理\n",
        "1. テキストデータの読み込み\n",
        "2. 整形処理\n",
        "3. 辞書・コーパスの作成"
      ]
    },
    {
      "cell_type": "code",
      "execution_count": 11,
      "metadata": {},
      "outputs": [],
      "source": [
        "import logging\n",
        "logging.basicConfig(format='%(asctime)s : %(levelname)s : %(message)s', level=logging.INFO)"
      ]
    },
    {
      "cell_type": "code",
      "execution_count": 15,
      "metadata": {},
      "outputs": [],
      "source": [
        "import os\n",
        "\n",
        "# Load the livedoor news corpus\n",
        "path_to_corpus = '../../text'  # 事前にDLして解凍が必要（https://www.rondhuit.com/download.html）\n",
        "documents = []\n",
        "for category in os.listdir(path_to_corpus):\n",
        "    if category in ['CHANGES.txt', 'README.txt']:\n",
        "        continue\n",
        "    category_path = os.path.join(path_to_corpus, category)\n",
        "    for file in os.listdir(category_path):\n",
        "        if file in ['LICENSE.txt']:\n",
        "            continue\n",
        "        file_path = os.path.join(category_path, file)\n",
        "        with open(file_path, 'r') as f:\n",
        "            url = f.readline()  # １行目：記事のURL\n",
        "            date = f.readline()  # ２行目：記事の日付\n",
        "            title = f.readline()  # ３行目：記事のタイトル\n",
        "            documents.append(f.read())  # ４行目以降：記事の本文\n"
      ]
    },
    {
      "cell_type": "code",
      "execution_count": 16,
      "metadata": {},
      "outputs": [
        {
          "name": "stdout",
          "output_type": "stream",
          "text": [
            "2070594\n"
          ]
        }
      ],
      "source": [
        "import re\n",
        "import requests\n",
        "from fugashi import Tagger\n",
        "\n",
        "# ストップワードの準備\n",
        "url = \"http://svn.sourceforge.jp/svnroot/slothlib/CSharp/Version1/SlothLib/NLP/Filter/StopWord/word/Japanese.txt\"\n",
        "r = requests.get(url)\n",
        "tmp = r.text.split('\\r\\n')\n",
        "stopwords = []\n",
        "for i in range(len(tmp)):\n",
        "    if len(tmp[i]) < 1:\n",
        "        continue\n",
        "    stopwords.append(tmp[i])\n",
        "\n",
        "# 全角半角文字以外（記号と数字）を正規表現を使って除去\n",
        "pattern = r\"[^\\u3040-\\u30ff\\u3400-\\u4dbf\\u4e00-\\u9fff\\uf900-\\ufaff\\u20000-\\u2ffff\\sa-zA-Z]\"\n",
        "documents = [re.sub(pattern, \"\", text) for text in documents]\n",
        "\n",
        "# Mecabで分かち書きして、単語に分割\n",
        "tagger = Tagger('-Owakati')\n",
        "documents = [tagger.parse(text).split() for text in documents]\n",
        "\n",
        "# ストップワードの除去\n",
        "documents = [[word for word in text if not word in stopwords]for text in documents]\n",
        "\n",
        "# 1文字は除去\n",
        "documents = [[word for word in text if len(word) > 1]for text in documents]\n",
        "\n",
        "print(sum([len(text) for text in documents]))"
      ]
    },
    {
      "cell_type": "code",
      "execution_count": 17,
      "metadata": {},
      "outputs": [
        {
          "name": "stderr",
          "output_type": "stream",
          "text": [
            "2023-01-20 12:53:46,260 : INFO : adding document #0 to Dictionary<0 unique tokens: []>\n",
            "2023-01-20 12:53:47,146 : INFO : built Dictionary<71140 unique tokens: ['10', '11', '111029', '2005', '2006']...> from 7367 documents (total 2070594 corpus positions)\n",
            "2023-01-20 12:53:47,146 : INFO : Dictionary lifecycle event {'msg': \"built Dictionary<71140 unique tokens: ['10', '11', '111029', '2005', '2006']...> from 7367 documents (total 2070594 corpus positions)\", 'datetime': '2023-01-20T12:53:47.146882', 'gensim': '4.3.0', 'python': '3.9.6 (default, Sep 26 2022, 11:37:49) \\n[Clang 14.0.0 (clang-1400.0.29.202)]', 'platform': 'macOS-12.5.1-arm64-arm-64bit', 'event': 'created'}\n",
            "2023-01-20 12:53:47,152 : INFO : Dictionary lifecycle event {'fname_or_handle': 'livedoor.dict', 'separately': 'None', 'sep_limit': 10485760, 'ignore': frozenset(), 'datetime': '2023-01-20T12:53:47.152154', 'gensim': '4.3.0', 'python': '3.9.6 (default, Sep 26 2022, 11:37:49) \\n[Clang 14.0.0 (clang-1400.0.29.202)]', 'platform': 'macOS-12.5.1-arm64-arm-64bit', 'event': 'saving'}\n",
            "2023-01-20 12:53:47,167 : INFO : saved livedoor.dict\n",
            "2023-01-20 12:53:47,167 : INFO : loading Dictionary object from livedoor.dict\n",
            "2023-01-20 12:53:47,183 : INFO : Dictionary lifecycle event {'fname': 'livedoor.dict', 'datetime': '2023-01-20T12:53:47.183596', 'gensim': '4.3.0', 'python': '3.9.6 (default, Sep 26 2022, 11:37:49) \\n[Clang 14.0.0 (clang-1400.0.29.202)]', 'platform': 'macOS-12.5.1-arm64-arm-64bit', 'event': 'loaded'}\n",
            "2023-01-20 12:53:47,720 : INFO : storing corpus in Matrix Market format to ./doc_train.mm\n",
            "2023-01-20 12:53:47,722 : INFO : saving sparse matrix to ./doc_train.mm\n",
            "2023-01-20 12:53:47,722 : INFO : PROGRESS: saving document #0\n",
            "2023-01-20 12:53:47,811 : INFO : PROGRESS: saving document #1000\n",
            "2023-01-20 12:53:47,903 : INFO : PROGRESS: saving document #2000\n"
          ]
        },
        {
          "name": "stdout",
          "output_type": "stream",
          "text": [
            "[(0, 3), (1, 1), (2, 1), (3, 1), (4, 1), (5, 2), (6, 1), (7, 1), (8, 1), (9, 1)]\n"
          ]
        },
        {
          "name": "stderr",
          "output_type": "stream",
          "text": [
            "2023-01-20 12:53:47,997 : INFO : PROGRESS: saving document #3000\n",
            "2023-01-20 12:53:48,084 : INFO : PROGRESS: saving document #4000\n",
            "2023-01-20 12:53:48,175 : INFO : PROGRESS: saving document #5000\n",
            "2023-01-20 12:53:48,254 : INFO : saved 5893x71140 matrix, density=0.244% (1024097/419228020)\n",
            "2023-01-20 12:53:48,255 : INFO : saving MmCorpus index to ./doc_train.mm.index\n",
            "2023-01-20 12:53:48,256 : INFO : storing corpus in Matrix Market format to ./doc_test.mm\n",
            "2023-01-20 12:53:48,256 : INFO : saving sparse matrix to ./doc_test.mm\n",
            "2023-01-20 12:53:48,257 : INFO : PROGRESS: saving document #0\n",
            "2023-01-20 12:53:48,345 : INFO : PROGRESS: saving document #1000\n",
            "2023-01-20 12:53:48,390 : INFO : saved 1474x71133 matrix, density=0.245% (256947/104850042)\n",
            "2023-01-20 12:53:48,390 : INFO : saving MmCorpus index to ./doc_test.mm.index\n",
            "2023-01-20 12:53:48,396 : INFO : loaded corpus index from doc_train.mm.index\n",
            "2023-01-20 12:53:48,397 : INFO : initializing cython corpus reader from doc_train.mm\n",
            "2023-01-20 12:53:48,397 : INFO : accepted corpus with 5893 documents, 71140 features, 1024097 non-zero entries\n",
            "2023-01-20 12:53:48,397 : INFO : loaded corpus index from doc_test.mm.index\n",
            "2023-01-20 12:53:48,398 : INFO : initializing cython corpus reader from doc_test.mm\n",
            "2023-01-20 12:53:48,398 : INFO : accepted corpus with 1474 documents, 71133 features, 256947 non-zero entries\n"
          ]
        },
        {
          "name": "stdout",
          "output_type": "stream",
          "text": [
            "MmCorpus(5893 documents, 71140 features, 1024097 non-zero entries)\n",
            "MmCorpus(1474 documents, 71133 features, 256947 non-zero entries)\n"
          ]
        }
      ],
      "source": [
        "from gensim.corpora import Dictionary, MmCorpus\n",
        "from sklearn.model_selection import train_test_split\n",
        "\n",
        "# 辞書の作成、保存、読み込み\n",
        "dictionary = Dictionary(documents)\n",
        "dictionary.save('livedoor.dict')\n",
        "dictionary = Dictionary.load('livedoor.dict')\n",
        "\n",
        "# コーパスの作成、分割、保存、読み込み\n",
        "corpus = [ dictionary.doc2bow(text) for text in documents]\n",
        "doc_train, doc_test = train_test_split(corpus, test_size=0.2)\n",
        "print(corpus[0][:10])\n",
        "MmCorpus.serialize('./doc_train.mm', doc_train)\n",
        "MmCorpus.serialize('./doc_test.mm', doc_test)\n",
        "doc_train = MmCorpus('doc_train.mm')\n",
        "doc_test = MmCorpus('doc_test.mm')\n",
        "print(doc_train)\n",
        "print(doc_test)\n"
      ]
    },
    {
      "attachments": {},
      "cell_type": "markdown",
      "metadata": {},
      "source": [
        "おまけ\n",
        "- NumPy および SciPy との互換性\n",
        "    - Gensim には、Numpy 行列との変換を支援する効率的なユーティリティ関数も含まれています。意外とよく使います\n",
        "- ベクトルの正規化（単位ベクトル化）"
      ]
    },
    {
      "cell_type": "code",
      "execution_count": 18,
      "metadata": {},
      "outputs": [
        {
          "data": {
            "text/plain": [
              "1.0"
            ]
          },
          "execution_count": 18,
          "metadata": {},
          "output_type": "execute_result"
        }
      ],
      "source": [
        "from gensim import matutils\n",
        "# Dense2Corpus\n",
        "import numpy as np\n",
        "numpy_matrix = np.random.randint(10, size=[5, 2])  # random matrix as an example\n",
        "corpus = matutils.Dense2Corpus(numpy_matrix)\n",
        "\n",
        "# Sparse2Corpus\n",
        "import scipy.sparse\n",
        "scipy_sparse_matrix = scipy.sparse.random(5, 2)  # random sparse matrix as example\n",
        "corpus = matutils.Sparse2Corpus(scipy_sparse_matrix)\n",
        "scipy_csc_matrix = matutils.corpus2csc(corpus)\n",
        "\n",
        "# Sparce2full\n",
        "bow = [(1,22), (45, 1)]\n",
        "bow_np = matutils.sparse2full(bow, 100)\n",
        "\n",
        "# unitvec\n",
        "bow_np_norm = matutils.unitvec(bow_np)\n",
        "np.sqrt(np.dot(bow_np_norm,bow_np_norm,))"
      ]
    },
    {
      "attachments": {},
      "cell_type": "markdown",
      "metadata": {},
      "source": [
        "TFIDFの答え\n",
        "- pprintを使うとプリティーにprintしてくれます。"
      ]
    },
    {
      "cell_type": "code",
      "execution_count": 19,
      "metadata": {},
      "outputs": [
        {
          "name": "stderr",
          "output_type": "stream",
          "text": [
            "2023-01-20 12:53:50,453 : INFO : loading Dictionary object from livedoor.dict\n",
            "2023-01-20 12:53:50,472 : INFO : Dictionary lifecycle event {'fname': 'livedoor.dict', 'datetime': '2023-01-20T12:53:50.472655', 'gensim': '4.3.0', 'python': '3.9.6 (default, Sep 26 2022, 11:37:49) \\n[Clang 14.0.0 (clang-1400.0.29.202)]', 'platform': 'macOS-12.5.1-arm64-arm-64bit', 'event': 'loaded'}\n",
            "2023-01-20 12:53:50,476 : INFO : loaded corpus index from doc_train.mm.index\n",
            "2023-01-20 12:53:50,476 : INFO : initializing cython corpus reader from doc_train.mm\n",
            "2023-01-20 12:53:50,477 : INFO : accepted corpus with 5893 documents, 71140 features, 1024097 non-zero entries\n",
            "2023-01-20 12:53:50,477 : INFO : loaded corpus index from doc_test.mm.index\n",
            "2023-01-20 12:53:50,478 : INFO : initializing cython corpus reader from doc_test.mm\n",
            "2023-01-20 12:53:50,478 : INFO : accepted corpus with 1474 documents, 71133 features, 256947 non-zero entries\n",
            "2023-01-20 12:53:50,478 : INFO : collecting document frequencies\n",
            "2023-01-20 12:53:50,479 : INFO : PROGRESS: processing document #0\n",
            "2023-01-20 12:53:50,828 : INFO : TfidfModel lifecycle event {'msg': 'calculated IDF weights for 5893 documents and 71140 features (1024097 matrix non-zeros)', 'datetime': '2023-01-20T12:53:50.828566', 'gensim': '4.3.0', 'python': '3.9.6 (default, Sep 26 2022, 11:37:49) \\n[Clang 14.0.0 (clang-1400.0.29.202)]', 'platform': 'macOS-12.5.1-arm64-arm-64bit', 'event': 'initialize'}\n",
            "2023-01-20 12:53:50,831 : INFO : TfidfModel lifecycle event {'fname_or_handle': 'tfidf.model', 'separately': 'None', 'sep_limit': 10485760, 'ignore': frozenset(), 'datetime': '2023-01-20T12:53:50.831089', 'gensim': '4.3.0', 'python': '3.9.6 (default, Sep 26 2022, 11:37:49) \\n[Clang 14.0.0 (clang-1400.0.29.202)]', 'platform': 'macOS-12.5.1-arm64-arm-64bit', 'event': 'saving'}\n",
            "2023-01-20 12:53:50,920 : INFO : saved tfidf.model\n"
          ]
        },
        {
          "name": "stdout",
          "output_type": "stream",
          "text": [
            "['単語：21, 変換前: 1.0, 変換後:0.024729763555466425',\n",
            " '単語：ある, 変換前: 1.0, 変換後:0.003751664709258531',\n",
            " '単語：いう, 変換前: 1.0, 変換後:0.002955107966292036',\n",
            " '単語：いる, 変換前: 2.0, 変換後:0.0027861095377936483',\n",
            " '単語：その, 変換前: 2.0, 変換後:0.010010728569258982',\n",
            " '単語：だけ, 変換前: 1.0, 変換後:0.008479509343784433',\n",
            " '単語：つける, 変換前: 1.0, 変換後:0.03777808002512007',\n",
            " '単語：ない, 変換前: 5.0, 変換後:0.01108662279815237',\n",
            " '単語：なかっ, 変換前: 1.0, 変換後:0.01517250044699044',\n",
            " '単語：なっ, 変換前: 1.0, 変換後:0.004023407100236087']\n"
          ]
        }
      ],
      "source": [
        "from gensim.corpora import Dictionary, MmCorpus\n",
        "from gensim import models\n",
        "\n",
        "# 演習1-6,7で作成した辞書、コーパスを読み込む\n",
        "dictionary = Dictionary.load('livedoor.dict')\n",
        "corpus_train = MmCorpus('doc_train.mm')\n",
        "corpus_test = MmCorpus('doc_test.mm')\n",
        "\n",
        "# corpus_trainをTFIDFモデルの作成と保存\n",
        "tfidf = models.TfidfModel(corpus_train)\n",
        "tfidf.save('tfidf.model')\n",
        "\n",
        "# corpus_test[0][:10]を使って、変換前（BagOfWords）と変換後（TFIDF）をプリントして比較\n",
        "from pprint import pprint\n",
        "pprint([f\"単語：{dictionary[before[0]]}, 変換前: {before[1]}, 変換後:{after[1]}\"  for before, after in zip(corpus_test[0][:10], tfidf[corpus_test[0]][:10])])"
      ]
    },
    {
      "attachments": {},
      "cell_type": "markdown",
      "metadata": {},
      "source": [
        "類似度の答え\n",
        "- 最も似ているドキュメントは自分自身"
      ]
    },
    {
      "cell_type": "code",
      "execution_count": 20,
      "metadata": {},
      "outputs": [
        {
          "name": "stderr",
          "output_type": "stream",
          "text": [
            "2023-01-20 12:53:51,342 : INFO : loaded corpus index from doc_test.mm.index\n",
            "2023-01-20 12:53:51,343 : INFO : initializing cython corpus reader from doc_test.mm\n",
            "2023-01-20 12:53:51,343 : INFO : accepted corpus with 1474 documents, 71133 features, 256947 non-zero entries\n",
            "2023-01-20 12:53:51,344 : INFO : loading TfidfModel object from tfidf.model\n",
            "2023-01-20 12:53:51,363 : INFO : TfidfModel lifecycle event {'fname': 'tfidf.model', 'datetime': '2023-01-20T12:53:51.363110', 'gensim': '4.3.0', 'python': '3.9.6 (default, Sep 26 2022, 11:37:49) \\n[Clang 14.0.0 (clang-1400.0.29.202)]', 'platform': 'macOS-12.5.1-arm64-arm-64bit', 'event': 'loaded'}\n",
            "2023-01-20 12:53:51,364 : WARNING : scanning corpus to determine the number of features (consider setting `num_features` explicitly)\n",
            "2023-01-20 12:53:51,568 : INFO : creating matrix with 1474 documents and 70825 features\n"
          ]
        },
        {
          "name": "stdout",
          "output_type": "stream",
          "text": [
            "0と最も似ているのはドキュメントは0\n",
            "1と最も似ているのはドキュメントは1\n",
            "2と最も似ているのはドキュメントは2\n",
            "3と最も似ているのはドキュメントは3\n",
            "4と最も似ているのはドキュメントは4\n"
          ]
        }
      ],
      "source": [
        "from gensim.corpora import MmCorpus\n",
        "from gensim import models\n",
        "from gensim import similarities\n",
        "import numpy as np\n",
        "\n",
        "# 演習2-1で作成したコーパスとTFIDFモデルを読み込む\n",
        "corpus_test = MmCorpus('doc_test.mm')\n",
        "tfidf = models.TfidfModel.load('tfidf.model')\n",
        "\n",
        "# クエリを受け取り、TFIDFモデルを使って、類似度を計算するためのモジュールを呼び出します。\n",
        "index = similarities.MatrixSimilarity(tfidf[corpus_test])\n",
        "\n",
        "# TFIDFモデルを作るときに使ったコーパスの先頭から５個（corpus_test[:5]）それぞれをクエリーとして類似度を計算して、最も似ているドキュメントのインデックをprintしてください。\n",
        "for i in range(5):\n",
        "    best_sim_id = np.argmax(index[corpus_test[i]])\n",
        "    print(f\"{i}と最も似ているのはドキュメントは{best_sim_id}\")"
      ]
    },
    {
      "attachments": {},
      "cell_type": "markdown",
      "metadata": {
        "id": "N90y8CPKK1Tt"
      },
      "source": [
        "### BagOfWordsとTFIDFの類似度行列の回答"
      ]
    },
    {
      "cell_type": "code",
      "execution_count": 21,
      "metadata": {},
      "outputs": [
        {
          "name": "stderr",
          "output_type": "stream",
          "text": [
            "2023-01-20 12:53:52,249 : INFO : loaded corpus index from doc_test.mm.index\n",
            "2023-01-20 12:53:52,266 : INFO : initializing cython corpus reader from doc_test.mm\n",
            "2023-01-20 12:53:52,275 : INFO : accepted corpus with 1474 documents, 71133 features, 256947 non-zero entries\n",
            "2023-01-20 12:53:52,284 : INFO : loading TfidfModel object from tfidf.model\n",
            "2023-01-20 12:53:52,325 : INFO : TfidfModel lifecycle event {'fname': 'tfidf.model', 'datetime': '2023-01-20T12:53:52.325054', 'gensim': '4.3.0', 'python': '3.9.6 (default, Sep 26 2022, 11:37:49) \\n[Clang 14.0.0 (clang-1400.0.29.202)]', 'platform': 'macOS-12.5.1-arm64-arm-64bit', 'event': 'loaded'}\n",
            "2023-01-20 12:53:52,328 : INFO : creating matrix with 10 documents and 71133 features\n"
          ]
        },
        {
          "data": {
            "text/plain": [
              "(10, 10)"
            ]
          },
          "execution_count": 21,
          "metadata": {},
          "output_type": "execute_result"
        }
      ],
      "source": [
        "from gensim.corpora import MmCorpus\n",
        "from gensim import models\n",
        "from gensim import similarities\n",
        "import numpy as np\n",
        "\n",
        "corpus_test = MmCorpus('doc_test.mm')\n",
        "\n",
        "tfidf = models.TfidfModel.load('tfidf.model')\n",
        "index = similarities.MatrixSimilarity(tfidf[corpus_test[:10]], num_features=corpus_test.num_terms)\n",
        "similarity_gensim = index[corpus_test[:10]]\n",
        "similarity_gensim.shape\n"
      ]
    },
    {
      "cell_type": "code",
      "execution_count": 22,
      "metadata": {
        "id": "KPDOcnyoK1Tw"
      },
      "outputs": [
        {
          "name": "stderr",
          "output_type": "stream",
          "text": [
            "2023-01-20 12:53:52,616 : INFO : loading TfidfModel object from tfidf.model\n",
            "2023-01-20 12:53:52,631 : INFO : TfidfModel lifecycle event {'fname': 'tfidf.model', 'datetime': '2023-01-20T12:53:52.631940', 'gensim': '4.3.0', 'python': '3.9.6 (default, Sep 26 2022, 11:37:49) \\n[Clang 14.0.0 (clang-1400.0.29.202)]', 'platform': 'macOS-12.5.1-arm64-arm-64bit', 'event': 'loaded'}\n",
            "2023-01-20 12:53:52,633 : INFO : loaded corpus index from doc_test.mm.index\n",
            "2023-01-20 12:53:52,633 : INFO : initializing cython corpus reader from doc_test.mm\n",
            "2023-01-20 12:53:52,634 : INFO : accepted corpus with 1474 documents, 71133 features, 256947 non-zero entries\n"
          ]
        },
        {
          "data": {
            "text/plain": [
              "(10, 10)"
            ]
          },
          "execution_count": 22,
          "metadata": {},
          "output_type": "execute_result"
        }
      ],
      "source": [
        "import numpy as np\n",
        "from gensim.corpora import MmCorpus\n",
        "from gensim import matutils\n",
        "from gensim import models\n",
        "from gensim import similarities\n",
        "\n",
        "tfidf = models.TfidfModel.load('tfidf.model')\n",
        "corpus_test = MmCorpus('doc_test.mm')\n",
        "\n",
        "A_bow = matutils.corpus2dense(corpus_test[:10], num_docs=10, num_terms=corpus_test.num_terms).T\n",
        "A_tfidf = matutils.corpus2dense(tfidf[corpus_test[:10]], num_docs=10, num_terms=corpus_test.num_terms).T\n",
        "A_tfidf_norm = A_tfidf /np.linalg.norm(A_tfidf, axis=1, keepdims=True)\n",
        "A_bow_norm = A_bow / np.linalg.norm(A_bow, axis=1, keepdims=True)\n",
        "similarity_matrix = np.dot(A_tfidf_norm, A_bow_norm.T)\n",
        "\n",
        "\n",
        "# A_bow =   np.asarray([matutils.unitvec(matutils.sparse2full(vec, corpus_test.num_terms)) for vec in corpus_test[:10]])\n",
        "# A_tfidf =  np.asarray([matutils.unitvec(matutils.sparse2full(vec, corpus_test.num_terms)) for vec in tfidf[corpus_test[:10]]])\n",
        "\n",
        "# # 行列の積を取っているだけ\n",
        "# # https://github.com/RaRe-Technologies/gensim/blob/f35faae7a7b0c3c8586fb61208560522e37e0e7e/gensim/similarities/docsim.py#L876\n",
        "# similarity_matrix = np.dot(A_tfidf, A_bow.T)\n",
        "\n",
        "similarity_matrix.shape"
      ]
    },
    {
      "cell_type": "code",
      "execution_count": 23,
      "metadata": {},
      "outputs": [
        {
          "data": {
            "image/png": "[encoded data removed]",
            "text/plain": [
              "<Figure size 640x480 with 4 Axes>"
            ]
          },
          "metadata": {},
          "output_type": "display_data"
        }
      ],
      "source": [
        "import matplotlib.pyplot as plt\n",
        "\n",
        "fig, ax = plt.subplots(1,2)\n",
        "plt.subplots_adjust(wspace=0.4, hspace=0.6)\n",
        "\n",
        "im_0 = ax[0].imshow(similarity_gensim, cmap='hot')\n",
        "axpos = ax[0].get_position()\n",
        "cbar_ax = fig.add_axes([0.46, axpos.y0, 0.02, axpos.height])\n",
        "cbar = fig.colorbar(im_0, cax=cbar_ax)\n",
        "\n",
        "im_1 = ax[1].imshow(similarity_matrix, cmap='hot')\n",
        "axpos = ax[1].get_position()\n",
        "cbar_ax = fig.add_axes([0.92, axpos.y0, 0.02, axpos.height])\n",
        "cbar = fig.colorbar(im_1, cax=cbar_ax)"
      ]
    }
  ],
  "metadata": {
    "colab": {
      "name": "hw4_answer",
      "provenance": []
    },
    "kernelspec": {
      "display_name": ".venv",
      "language": "python",
      "name": "python3"
    },
    "language_info": {
      "codemirror_mode": {
        "name": "ipython",
        "version": 3
      },
      "file_extension": ".py",
      "mimetype": "text/x-python",
      "name": "python",
      "nbconvert_exporter": "python",
      "pygments_lexer": "ipython3",
      "version": "3.9.6"
    },
    "vscode": {
      "interpreter": {
        "hash": "eaac4ee8e735b6cee17c1b0358cfc8773b6176eb143c6cf3f1e52e7612ffbee2"
      }
    }
  },
  "nbformat": 4,
  "nbformat_minor": 0
}
