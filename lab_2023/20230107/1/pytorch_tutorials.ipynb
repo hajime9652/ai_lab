{
  "cells": [
    {
      "attachments": {},
      "cell_type": "markdown",
      "metadata": {},
      "source": [
        "# Tensors\n",
        "\n",
        "テンソルは配列や行列に非常によく似た特殊なデータ構造です。\n",
        "PyTorchでは、モデルの入力と出力、およびモデルのパラメータをエンコードするためにテンソルを使用します。\n",
        "\n",
        "テンソルは[NumPy](https://numpy.org/)のndarraysに似ていますが、テンソルはGPUや他のハードウェアアクセラレータ上で動作することができる点が異なります。実際、テンソルとNumPyの配列はしばしば同じメモリを共有することができ、データをコピーする必要がありません（`bridge-to-np-label`を参照）。\n",
        "テンソルはまた、自動微分のために最適化されています（これについては後ほどAutogradのセクションで詳しく説明します）。"
      ]
    },
    {
      "cell_type": "code",
      "execution_count": 2,
      "metadata": {
        "collapsed": false
      },
      "outputs": [],
      "source": [
        "import torch\n",
        "import numpy as np"
      ]
    },
    {
      "attachments": {},
      "cell_type": "markdown",
      "metadata": {},
      "source": [
        "## Tensorの初期化\n",
        "\n",
        "\n",
        "テンソルは様々な方法で初期化することができる。以下の例を見てみよう。\n",
        "\n",
        "**データから直接作成する**\n",
        "\n",
        "テンソルはデータから直接作成することができる。データ型は自動的に推論される。\n",
        "\n"
      ]
    },
    {
      "cell_type": "code",
      "execution_count": 3,
      "metadata": {
        "collapsed": false
      },
      "outputs": [],
      "source": [
        "data = [[1, 2],[3, 4]]\n",
        "x_data = torch.tensor(data)"
      ]
    },
    {
      "attachments": {},
      "cell_type": "markdown",
      "metadata": {},
      "source": [
        "**NumPy array から生成**\n",
        "\n",
        "テンソルはNumPyの配列から作成することができます（逆も同様です - `bridge-to-np-label` を参照してください）。\n"
      ]
    },
    {
      "cell_type": "code",
      "execution_count": 4,
      "metadata": {
        "collapsed": false
      },
      "outputs": [],
      "source": [
        "np_array = np.array(data)\n",
        "x_np = torch.from_numpy(np_array)"
      ]
    },
    {
      "attachments": {},
      "cell_type": "markdown",
      "metadata": {},
      "source": [
        "**another tensorから生成**\n",
        "\n",
        "新しいテンソルは、明示的に上書きされない限り、引数のテンソルの特性(形状、データ型)を保持する。\n",
        "\n"
      ]
    },
    {
      "cell_type": "code",
      "execution_count": 16,
      "metadata": {
        "collapsed": false
      },
      "outputs": [
        {
          "name": "stdout",
          "output_type": "stream",
          "text": [
            "Ones Tensor: \n",
            " tensor([[1, 1],\n",
            "        [1, 1]]) \n",
            "\n",
            "Random Tensor: \n",
            " tensor([[0.5684, 0.3889],\n",
            "        [0.2315, 0.3813]]) \n",
            "\n"
          ]
        }
      ],
      "source": [
        "x_ones = torch.ones_like(x_data) # retains the properties of x_data\n",
        "print(f\"Ones Tensor: \\n {x_ones} \\n\")\n",
        "\n",
        "x_rand = torch.rand_like(x_data, dtype=torch.float) # overrides the datatype of x_data\n",
        "print(f\"Random Tensor: \\n {x_rand} \\n\")"
      ]
    },
    {
      "attachments": {},
      "cell_type": "markdown",
      "metadata": {},
      "source": [
        "**ランダムまたは定数値:**\n",
        "\n",
        "``shape`` はテンソルの次元を表すタプルである。以下の関数では、これは出力されるテンソルの次元を決定する。\n",
        "\n"
      ]
    },
    {
      "cell_type": "code",
      "execution_count": 7,
      "metadata": {
        "collapsed": false
      },
      "outputs": [
        {
          "name": "stdout",
          "output_type": "stream",
          "text": [
            "Random Tensor: \n",
            " tensor([[0.8371, 0.0164, 0.8186],\n",
            "        [0.6017, 0.4221, 0.9180]]) \n",
            "\n",
            "Ones Tensor: \n",
            " tensor([[1., 1., 1.],\n",
            "        [1., 1., 1.]]) \n",
            "\n",
            "Zeros Tensor: \n",
            " tensor([[0., 0., 0.],\n",
            "        [0., 0., 0.]])\n"
          ]
        }
      ],
      "source": [
        "shape = (2,3,)\n",
        "rand_tensor = torch.rand(shape)\n",
        "ones_tensor = torch.ones(shape)\n",
        "zeros_tensor = torch.zeros(shape)\n",
        "\n",
        "print(f\"Random Tensor: \\n {rand_tensor} \\n\")\n",
        "print(f\"Ones Tensor: \\n {ones_tensor} \\n\")\n",
        "print(f\"Zeros Tensor: \\n {zeros_tensor}\")"
      ]
    },
    {
      "attachments": {},
      "cell_type": "markdown",
      "metadata": {},
      "source": [
        "## テンソルの属性\n",
        "\n",
        "テンソルの属性は、その形状、データ型、保存されるデバイスを記述する。"
      ]
    },
    {
      "cell_type": "code",
      "execution_count": 8,
      "metadata": {
        "collapsed": false
      },
      "outputs": [
        {
          "name": "stdout",
          "output_type": "stream",
          "text": [
            "Shape of tensor: torch.Size([3, 4])\n",
            "Datatype of tensor: torch.float32\n",
            "Device tensor is stored on: cpu\n"
          ]
        }
      ],
      "source": [
        "tensor = torch.rand(3,4)\n",
        "\n",
        "print(f\"Shape of tensor: {tensor.shape}\")\n",
        "print(f\"Datatype of tensor: {tensor.dtype}\")\n",
        "print(f\"Device tensor is stored on: {tensor.device}\")"
      ]
    },
    {
      "attachments": {},
      "cell_type": "markdown",
      "metadata": {},
      "source": [
        "## テンソルの演算\n",
        "\n",
        "算術、線形代数、行列操作（転置、インデックス、スライス）、サンプリングなど、100以上のテンソル演算が可能。\n",
        "インデックス付け、スライス）、サンプリングなど、100以上のテンソル演算が\n",
        "包括的に記述されている[こちら](https://pytorch.org/docs/stable/torch.html)。\n",
        "\n",
        "これらの各操作はGPU上で実行することができます（通常、CPU上よりも高速に）。\n",
        "これらの操作はそれぞれGPUで実行できます(一般にCPUより高速)。Colabを使っている場合、Runtime > Change runtime type > GPUでGPUを割り当てます。\n",
        "\n",
        "デフォルトでは、テンソルは CPU 上で作成されます。このため、テンソルを明示的にGPUに移動させる必要がある。\n",
        "``.to`` メソッドを用いて明示的に GPU に移動する必要があります。大きなテンソルをデバイス間でコピーすることはデバイス間で大きなテンソルをコピーすると、時間とメモリの面で高くつくことに留意してください!\n"
      ]
    },
    {
      "cell_type": "code",
      "execution_count": 9,
      "metadata": {
        "collapsed": false
      },
      "outputs": [],
      "source": [
        "# We move our tensor to the GPU if available\n",
        "if torch.cuda.is_available():\n",
        "    tensor = tensor.to(\"cuda\")"
      ]
    },
    {
      "attachments": {},
      "cell_type": "markdown",
      "metadata": {},
      "source": [
        "リストの中からいくつかの操作を試してみてください。\n",
        "NumPy APIに慣れている人なら、Tensor APIは簡単に使えます。"
      ]
    },
    {
      "cell_type": "markdown",
      "metadata": {},
      "source": [
        "**Standard numpy-like indexing and slicing:**\n",
        "\n"
      ]
    },
    {
      "cell_type": "code",
      "execution_count": null,
      "metadata": {
        "collapsed": false
      },
      "outputs": [],
      "source": [
        "tensor = torch.ones(4, 4)\n",
        "print(f\"First row: {tensor[0]}\")\n",
        "print(f\"First column: {tensor[:, 0]}\")\n",
        "print(f\"Last column: {tensor[..., -1]}\")\n",
        "tensor[:,1] = 0\n",
        "print(tensor)"
      ]
    },
    {
      "attachments": {},
      "cell_type": "markdown",
      "metadata": {},
      "source": [
        "**Joining tensors**\n",
        "\n",
        "``torch.cat`` を使うと、一連のテンソルを与えられた次元に沿って連結することができます。\n",
        "[torch.stack](https://pytorch.org/docs/stable/generated/torch.stack.html)も参照してください。\n",
        "また、``torch.cat`` とは微妙に異なるテンソル結合オペもあります。\n"
      ]
    },
    {
      "cell_type": "code",
      "execution_count": 10,
      "metadata": {
        "collapsed": false
      },
      "outputs": [
        {
          "name": "stdout",
          "output_type": "stream",
          "text": [
            "tensor([[0.4884, 0.1629, 0.9538, 0.1861, 0.4884, 0.1629, 0.9538, 0.1861, 0.4884,\n",
            "         0.1629, 0.9538, 0.1861],\n",
            "        [0.0471, 0.8741, 0.9031, 0.0081, 0.0471, 0.8741, 0.9031, 0.0081, 0.0471,\n",
            "         0.8741, 0.9031, 0.0081],\n",
            "        [0.7120, 0.4729, 0.4292, 0.8756, 0.7120, 0.4729, 0.4292, 0.8756, 0.7120,\n",
            "         0.4729, 0.4292, 0.8756]])\n"
          ]
        }
      ],
      "source": [
        "t1 = torch.cat([tensor, tensor, tensor], dim=1)\n",
        "print(t1)"
      ]
    },
    {
      "cell_type": "markdown",
      "metadata": {},
      "source": [
        "**Arithmetic operations**\n",
        "\n"
      ]
    },
    {
      "cell_type": "code",
      "execution_count": 11,
      "metadata": {
        "collapsed": false
      },
      "outputs": [
        {
          "data": {
            "text/plain": [
              "tensor([[2.3856e-01, 2.6530e-02, 9.0974e-01, 3.4650e-02],\n",
              "        [2.2164e-03, 7.6412e-01, 8.1562e-01, 6.4827e-05],\n",
              "        [5.0692e-01, 2.2368e-01, 1.8423e-01, 7.6660e-01]])"
            ]
          },
          "execution_count": 11,
          "metadata": {},
          "output_type": "execute_result"
        }
      ],
      "source": [
        "# 2つのテンソル間の行列の掛け算を計算する。y1, y2, y3 は同じ値になる。\n",
        "# ``tensor.T`` はテンソルの転置を返す。\n",
        "y1 = tensor @ tensor.T\n",
        "y2 = tensor.matmul(tensor.T)\n",
        "\n",
        "y3 = torch.rand_like(y1)\n",
        "torch.matmul(tensor, tensor.T, out=y3)\n",
        "\n",
        "\n",
        "# これは要素ごとの積を計算します。z1, z2, z3 は同じ値になる。z1 = tensor * tensor\n",
        "z2 = tensor.mul(tensor)\n",
        "\n",
        "z3 = torch.rand_like(tensor)\n",
        "torch.mul(tensor, tensor, out=z3)"
      ]
    },
    {
      "attachments": {},
      "cell_type": "markdown",
      "metadata": {},
      "source": [
        "**単元テンソル**\n",
        "単元テンソルがある場合、例えば全ての値を1つに集約することで\n",
        "テンソルのすべての値を 1 つの値に集約することで、1 要素のテンソルを得た場合、それを Python の数値に変換することができます。\n",
        "\n"
      ]
    },
    {
      "cell_type": "code",
      "execution_count": 18,
      "metadata": {
        "collapsed": false
      },
      "outputs": [
        {
          "name": "stdout",
          "output_type": "stream",
          "text": [
            "66.11334991455078 <class 'float'>\n"
          ]
        }
      ],
      "source": [
        "agg = tensor.sum()\n",
        "agg_item = agg.item()\n",
        "print(agg_item, type(agg_item))"
      ]
    },
    {
      "attachments": {},
      "cell_type": "markdown",
      "metadata": {},
      "source": [
        "**インプレース演算**\n",
        "\n",
        "結果をオペランドに格納する演算をインプレース演算と呼びます。これらは接尾辞 ``_`` で表現されます。\n",
        "例えば、 ``x.copy_(y)`` や ``x.t_()`` は ``x`` を変更することになります。"
      ]
    },
    {
      "cell_type": "code",
      "execution_count": 14,
      "metadata": {
        "collapsed": false
      },
      "outputs": [
        {
          "name": "stdout",
          "output_type": "stream",
          "text": [
            "tensor([[0.4884, 0.1629, 0.9538, 0.1861],\n",
            "        [0.0471, 0.8741, 0.9031, 0.0081],\n",
            "        [0.7120, 0.4729, 0.4292, 0.8756]]) \n",
            "\n",
            "tensor([[5.4884, 5.1629, 5.9538, 5.1861],\n",
            "        [5.0471, 5.8741, 5.9031, 5.0081],\n",
            "        [5.7120, 5.4729, 5.4292, 5.8756]])\n"
          ]
        }
      ],
      "source": [
        "print(f\"{tensor} \\n\")\n",
        "tensor.add_(5)\n",
        "print(tensor)"
      ]
    },
    {
      "attachments": {},
      "cell_type": "markdown",
      "metadata": {},
      "source": [
        "インプレース演算はメモリを節約できますが、微分計算をするときに履歴がすぐに失われるため、問題が生じる可能性があります。\n",
        "そのため、使用はお勧めしません。\n",
        "\n"
      ]
    },
    {
      "attachments": {},
      "cell_type": "markdown",
      "metadata": {},
      "source": [
        "## NumPyとのブリッジ\n",
        "CPU上のテンソルとNumPyのアレイは、メモリを共有することができます。\n",
        "一方を変更するともう一方も変更されます。"
      ]
    },
    {
      "cell_type": "markdown",
      "metadata": {},
      "source": [
        "### Tensor to NumPy array\n",
        "\n"
      ]
    },
    {
      "cell_type": "code",
      "execution_count": 15,
      "metadata": {
        "collapsed": false
      },
      "outputs": [
        {
          "name": "stdout",
          "output_type": "stream",
          "text": [
            "t: tensor([1., 1., 1., 1., 1.])\n",
            "n: [1. 1. 1. 1. 1.]\n"
          ]
        }
      ],
      "source": [
        "t = torch.ones(5)\n",
        "print(f\"t: {t}\")\n",
        "n = t.numpy()\n",
        "print(f\"n: {n}\")"
      ]
    },
    {
      "attachments": {},
      "cell_type": "markdown",
      "metadata": {},
      "source": [
        "テンソルの変化は、NumPyの配列に反映される。"
      ]
    },
    {
      "cell_type": "code",
      "execution_count": null,
      "metadata": {
        "collapsed": false
      },
      "outputs": [],
      "source": [
        "t.add_(1)\n",
        "print(f\"t: {t}\")\n",
        "print(f\"n: {n}\")"
      ]
    },
    {
      "cell_type": "markdown",
      "metadata": {},
      "source": [
        "### NumPy array to Tensor\n",
        "\n"
      ]
    },
    {
      "cell_type": "code",
      "execution_count": null,
      "metadata": {
        "collapsed": false
      },
      "outputs": [],
      "source": [
        "n = np.ones(5)\n",
        "t = torch.from_numpy(n)"
      ]
    },
    {
      "attachments": {},
      "cell_type": "markdown",
      "metadata": {},
      "source": [
        "NumPy配列の変更はテンソルに反映される。\n",
        "\n"
      ]
    },
    {
      "cell_type": "code",
      "execution_count": 31,
      "metadata": {
        "collapsed": false
      },
      "outputs": [
        {
          "name": "stdout",
          "output_type": "stream",
          "text": [
            "t: tensor([2., 2., 2., 2., 2.])\n",
            "n: [2. 2. 2. 2. 2.]\n"
          ]
        }
      ],
      "source": [
        "np.add(n, 1, out=n)\n",
        "print(f\"t: {t}\")\n",
        "print(f\"n: {n}\")"
      ]
    },
    {
      "cell_type": "markdown",
      "metadata": {},
      "source": [
        "--------------\n",
        "\n",
        "\n"
      ]
    },
    {
      "attachments": {},
      "cell_type": "markdown",
      "metadata": {},
      "source": [
        "# Datasets & DataLoaders\n"
      ]
    },
    {
      "attachments": {},
      "cell_type": "markdown",
      "metadata": {},
      "source": [
        "データサンプルを処理するコードは煩雑になりやすく、メンテナンスも大変です。\n",
        "読みやすさとモジュール化のために、モデル学習コードから切り離されることが理想です。\n",
        "PyTorchは2つのデータプリミティブを提供しています。PyTorch には ``torch.utils.data.DataLoader`` と ``torch.utils.data.Dataset`` という2つのデータプリミティブがあり、あらかじめロードされたデータセットを利用することができます。\n",
        "の2つのデータプリミティブがあり、あらかじめロードされたデータセットや独自のデータを使用することができる。\n",
        "Dataset`` にはサンプルとそれに対応するラベルが格納され、 ``DataLoader`` はイテラブルにラップしている。\n",
        "データローダーは、サンプルに簡単にアクセスできるように ``Dataset`` を反復処理できるようにラップします。\n",
        "\n",
        "PyTorchのドメインライブラリには、あらかじめロードされたデータセット（FashionMNISTなど）が用意されています。\n",
        "をサブクラスとし、特定のデータに特化した関数を実装しています。\n",
        "これらはあなたのモデルのプロトタイプやベンチマークに使用することができます。これらのデータは\n",
        "ここで見つけることができます。[Image Datasets](https://pytorch.org/vision/stable/datasets.html),\n",
        "[テキストデータセット](https://pytorch.org/text/stable/datasets.html)、そして\n",
        "[オーディオデータセット](https://pytorch.org/audio/stable/datasets.html)\n"
      ]
    },
    {
      "attachments": {},
      "cell_type": "markdown",
      "metadata": {},
      "source": [
        "## データセットの読み込み\n",
        "\n",
        "以下は、TorchVisionの[Fashion-MNIST](https://research.zalando.com/project/fashion_mnist/fashion_mnist/)データセットを読み込む例です。\n",
        "Fashion-MNISTは、Zalandoの記事画像のデータセットで、60,000の学習例と10,000のテスト例から構成されています。\n",
        "各例は、28×28のグレースケール画像と、10クラスのうちの1つのラベルから構成される。\n",
        "\n",
        "[FashionMNIST Dataset](https://pytorch.org/vision/stable/datasets.html#fashion-mnist)を以下のパラメータでロードする。\n",
        " - ``root`` は学習/テストデータが格納されているパスである。\n",
        " - ``root`` はトレーニング/テストデータが格納されているパス、 ``train`` はトレーニングデータセットまたはテストデータセットを指定します。\n",
        " - ルートディレクトリにデータがない場合は ``download=True`` が指定され、インターネットからデータをダウンロードする。\n",
        " - ``transform`` と ``target_transform`` は、特徴量とラベルの変換を指定する。"
      ]
    },
    {
      "cell_type": "code",
      "execution_count": 19,
      "metadata": {
        "collapsed": false
      },
      "outputs": [
        {
          "name": "stdout",
          "output_type": "stream",
          "text": [
            "Downloading http://fashion-mnist.s3-website.eu-central-1.amazonaws.com/train-images-idx3-ubyte.gz\n",
            "Downloading http://fashion-mnist.s3-website.eu-central-1.amazonaws.com/train-images-idx3-ubyte.gz to data/FashionMNIST/raw/train-images-idx3-ubyte.gz\n"
          ]
        },
        {
          "data": {
            "application/vnd.jupyter.widget-view+json": {
              "model_id": "5098cb7979b7468c8ab3f1cf9cd727c2",
              "version_major": 2,
              "version_minor": 0
            },
            "text/plain": [
              "  0%|          | 0/26421880 [00:00<?, ?it/s]"
            ]
          },
          "metadata": {},
          "output_type": "display_data"
        },
        {
          "name": "stdout",
          "output_type": "stream",
          "text": [
            "Extracting data/FashionMNIST/raw/train-images-idx3-ubyte.gz to data/FashionMNIST/raw\n",
            "\n",
            "Downloading http://fashion-mnist.s3-website.eu-central-1.amazonaws.com/train-labels-idx1-ubyte.gz\n",
            "Downloading http://fashion-mnist.s3-website.eu-central-1.amazonaws.com/train-labels-idx1-ubyte.gz to data/FashionMNIST/raw/train-labels-idx1-ubyte.gz\n"
          ]
        },
        {
          "data": {
            "application/vnd.jupyter.widget-view+json": {
              "model_id": "17215747df754387adaf1c93bdd8fc7f",
              "version_major": 2,
              "version_minor": 0
            },
            "text/plain": [
              "  0%|          | 0/29515 [00:00<?, ?it/s]"
            ]
          },
          "metadata": {},
          "output_type": "display_data"
        },
        {
          "name": "stdout",
          "output_type": "stream",
          "text": [
            "Extracting data/FashionMNIST/raw/train-labels-idx1-ubyte.gz to data/FashionMNIST/raw\n",
            "\n",
            "Downloading http://fashion-mnist.s3-website.eu-central-1.amazonaws.com/t10k-images-idx3-ubyte.gz\n",
            "Downloading http://fashion-mnist.s3-website.eu-central-1.amazonaws.com/t10k-images-idx3-ubyte.gz to data/FashionMNIST/raw/t10k-images-idx3-ubyte.gz\n"
          ]
        },
        {
          "data": {
            "application/vnd.jupyter.widget-view+json": {
              "model_id": "7d2efb29808e473ca1f6788d25dcc6d4",
              "version_major": 2,
              "version_minor": 0
            },
            "text/plain": [
              "  0%|          | 0/4422102 [00:00<?, ?it/s]"
            ]
          },
          "metadata": {},
          "output_type": "display_data"
        },
        {
          "name": "stdout",
          "output_type": "stream",
          "text": [
            "Extracting data/FashionMNIST/raw/t10k-images-idx3-ubyte.gz to data/FashionMNIST/raw\n",
            "\n",
            "Downloading http://fashion-mnist.s3-website.eu-central-1.amazonaws.com/t10k-labels-idx1-ubyte.gz\n",
            "Downloading http://fashion-mnist.s3-website.eu-central-1.amazonaws.com/t10k-labels-idx1-ubyte.gz to data/FashionMNIST/raw/t10k-labels-idx1-ubyte.gz\n"
          ]
        },
        {
          "data": {
            "application/vnd.jupyter.widget-view+json": {
              "model_id": "d7bf3cedf7d245588332a63a4e40ff3f",
              "version_major": 2,
              "version_minor": 0
            },
            "text/plain": [
              "  0%|          | 0/5148 [00:00<?, ?it/s]"
            ]
          },
          "metadata": {},
          "output_type": "display_data"
        },
        {
          "name": "stdout",
          "output_type": "stream",
          "text": [
            "Extracting data/FashionMNIST/raw/t10k-labels-idx1-ubyte.gz to data/FashionMNIST/raw\n",
            "\n"
          ]
        }
      ],
      "source": [
        "import torch\n",
        "from torch.utils.data import Dataset\n",
        "from torchvision import datasets\n",
        "from torchvision.transforms import ToTensor\n",
        "import matplotlib.pyplot as plt\n",
        "\n",
        "\n",
        "training_data = datasets.FashionMNIST(\n",
        "    root=\"data\",\n",
        "    train=True,\n",
        "    download=True,\n",
        "    transform=ToTensor()\n",
        ")\n",
        "\n",
        "test_data = datasets.FashionMNIST(\n",
        "    root=\"data\",\n",
        "    train=False,\n",
        "    download=True,\n",
        "    transform=ToTensor()\n",
        ")"
      ]
    },
    {
      "attachments": {},
      "cell_type": "markdown",
      "metadata": {},
      "source": [
        "## データセットの反復処理と可視化\n",
        "\n",
        "データセット ``Datasets`` をリストのように手動でインデックス化することができます．training_data[index]`` です。\n",
        "ここでは、 ``matplotlib`` を使用して、トレーニングデータのサンプルを可視化します。\n"
      ]
    },
    {
      "cell_type": "code",
      "execution_count": 20,
      "metadata": {
        "collapsed": false
      },
      "outputs": [
        {
          "data": {
            "image/png": "[encoded data removed]",
            "text/plain": [
              "<Figure size 800x800 with 9 Axes>"
            ]
          },
          "metadata": {},
          "output_type": "display_data"
        }
      ],
      "source": [
        "labels_map = {\n",
        "    0: \"T-Shirt\",\n",
        "    1: \"Trouser\",\n",
        "    2: \"Pullover\",\n",
        "    3: \"Dress\",\n",
        "    4: \"Coat\",\n",
        "    5: \"Sandal\",\n",
        "    6: \"Shirt\",\n",
        "    7: \"Sneaker\",\n",
        "    8: \"Bag\",\n",
        "    9: \"Ankle Boot\",\n",
        "}\n",
        "figure = plt.figure(figsize=(8, 8))\n",
        "cols, rows = 3, 3\n",
        "for i in range(1, cols * rows + 1):\n",
        "    sample_idx = torch.randint(len(training_data), size=(1,)).item()\n",
        "    img, label = training_data[sample_idx]\n",
        "    figure.add_subplot(rows, cols, i)\n",
        "    plt.title(labels_map[label])\n",
        "    plt.axis(\"off\")\n",
        "    plt.imshow(img.squeeze(), cmap=\"gray\")\n",
        "plt.show()"
      ]
    },
    {
      "cell_type": "markdown",
      "metadata": {},
      "source": [
        "..\n",
        " .. figure:: /_static/img/basics/fashion_mnist.png\n",
        "   :alt: fashion_mnist\n",
        "\n"
      ]
    },
    {
      "cell_type": "markdown",
      "metadata": {},
      "source": [
        "--------------\n",
        "\n",
        "\n"
      ]
    },
    {
      "attachments": {},
      "cell_type": "markdown",
      "metadata": {},
      "source": [
        "## 独自のファイルのためのカスタムデータセットを作成する\n",
        "\n",
        "カスタム Dataset クラスは、3 つの関数を実装する必要があります。init__`、`__len__`、`__getitem__` の3つの関数を実装する必要があります。\n",
        "この実装を見てみましょう。\n",
        "はディレクトリ ``img_dir`` に、ラベルは CSV ファイル ``annotations_file`` にそれぞれ保存されています。\n",
        "\n",
        "次のセクションでは、それぞれの関数で何が起こっているのかを分解して説明します。\n"
      ]
    },
    {
      "cell_type": "code",
      "execution_count": 21,
      "metadata": {
        "collapsed": false
      },
      "outputs": [],
      "source": [
        "import os\n",
        "import pandas as pd\n",
        "from torchvision.io import read_image\n",
        "\n",
        "class CustomImageDataset(Dataset):\n",
        "    def __init__(self, annotations_file, img_dir, transform=None, target_transform=None):\n",
        "        self.img_labels = pd.read_csv(annotations_file)\n",
        "        self.img_dir = img_dir\n",
        "        self.transform = transform\n",
        "        self.target_transform = target_transform\n",
        "\n",
        "    def __len__(self):\n",
        "        return len(self.img_labels)\n",
        "\n",
        "    def __getitem__(self, idx):\n",
        "        img_path = os.path.join(self.img_dir, self.img_labels.iloc[idx, 0])\n",
        "        image = read_image(img_path)\n",
        "        label = self.img_labels.iloc[idx, 1]\n",
        "        if self.transform:\n",
        "            image = self.transform(image)\n",
        "        if self.target_transform:\n",
        "            label = self.target_transform(label)\n",
        "        return image, label"
      ]
    },
    {
      "attachments": {},
      "cell_type": "markdown",
      "metadata": {},
      "source": [
        "### __init__\n",
        "\n",
        "__init__ 関数は、Dataset オブジェクトのインスタンスを作成する際に一度だけ実行されます。初期化するのは\n",
        "を含むディレクトリ，アノテーションファイル，および両変換（次のセクションで詳しく説明します）を初期化します．\n",
        "を含むディレクトリを初期化します。）\n",
        "\n",
        "labels.csvファイルは次のようになります：::\n",
        "\n",
        "    tshirt1.jpg, 0\n",
        "    tshirt2.jpg, 0\n",
        "    ......\n",
        "    ankleboot999.jpg, 9\n",
        "\n"
      ]
    },
    {
      "cell_type": "code",
      "execution_count": 22,
      "metadata": {
        "collapsed": false
      },
      "outputs": [],
      "source": [
        "def __init__(self, annotations_file, img_dir, transform=None, target_transform=None):\n",
        "    self.img_labels = pd.read_csv(annotations_file)\n",
        "    self.img_dir = img_dir\n",
        "    self.transform = transform\n",
        "    self.target_transform = target_transform"
      ]
    },
    {
      "attachments": {},
      "cell_type": "markdown",
      "metadata": {},
      "source": [
        "### __len__\n",
        "\n",
        "__len__ 関数は、データセットのサンプル数を返します。\n"
      ]
    },
    {
      "cell_type": "code",
      "execution_count": 23,
      "metadata": {
        "collapsed": false
      },
      "outputs": [],
      "source": [
        "def __len__(self):\n",
        "    return len(self.img_labels)"
      ]
    },
    {
      "attachments": {},
      "cell_type": "markdown",
      "metadata": {},
      "source": [
        "### __getitem__\n",
        "\n",
        "__getitem__ 関数は、データセットから指定されたインデックス ``idx`` にあるサンプルをロードして返します。\n",
        "このインデックスをもとに、ディスク上の画像の位置を特定し、 ``read_image`` を用いてテンソルへの変換を行い、 ``self.img_labels`` の csv データから対応するラベルを取得します。\n",
        "``self.img_labels`` の csv データから対応するラベルを取得し、(必要に応じて) 変換関数を呼び出して、テンソル画像とそれに対応するラベルを\n",
        "を呼び出し、テンソル画像と対応するラベルをタプルで返す。\n",
        "\n"
      ]
    },
    {
      "cell_type": "code",
      "execution_count": 24,
      "metadata": {
        "collapsed": false
      },
      "outputs": [],
      "source": [
        "def __getitem__(self, idx):\n",
        "    img_path = os.path.join(self.img_dir, self.img_labels.iloc[idx, 0])\n",
        "    image = read_image(img_path)\n",
        "    label = self.img_labels.iloc[idx, 1]\n",
        "    if self.transform:\n",
        "        image = self.transform(image)\n",
        "    if self.target_transform:\n",
        "        label = self.target_transform(label)\n",
        "    return image, label"
      ]
    },
    {
      "cell_type": "markdown",
      "metadata": {},
      "source": [
        "--------------\n",
        "\n",
        "\n"
      ]
    },
    {
      "attachments": {},
      "cell_type": "markdown",
      "metadata": {},
      "source": [
        "## DataLoaders を使って学習用のデータを準備する\n",
        "``Dataset`` は、データセットの特徴量とラベルを一度に取得する。モデルの学習では、通常\n",
        "モデルのオーバーフィッティングを減らすために、エポック毎にデータをシャッフルします。また、Pythonの ``multiprocessing`` を使用して、データの取得を高速化します。\n",
        "Python の ``multiprocessing`` を使用してデータ検索を高速化する。\n",
        "\n",
        "``DataLoader`` はイテラブルで、このような複雑な処理を簡単な API で抽象化したものである。\n"
      ]
    },
    {
      "cell_type": "code",
      "execution_count": 25,
      "metadata": {
        "collapsed": false
      },
      "outputs": [],
      "source": [
        "from torch.utils.data import DataLoader\n",
        "\n",
        "train_dataloader = DataLoader(training_data, batch_size=64, shuffle=True)\n",
        "test_dataloader = DataLoader(test_data, batch_size=64, shuffle=True)"
      ]
    },
    {
      "attachments": {},
      "cell_type": "markdown",
      "metadata": {},
      "source": [
        "## DataLoader を繰り返し処理する\n",
        "\n",
        "データセットを ``DataLoader`` にロードしたので、必要に応じてデータセットを繰り返し処理することができます。\n",
        "以下の各反復処理では、 ``train_features`` と ``train_labels`` (それぞれ ``batch_size=64`` の特徴とラベルを含む) のバッチが返されます。\n",
        "``shuffle=True`` を指定したため、すべてのバッチを繰り返し処理した後に、データがシャッフルされます（データのロード順序をより細かく制御する場合は\n",
        "より細かいデータロード順序の制御については、[Samplers](https://pytorch.org/docs/stable/data.html#data-loading-order-and-sampler) を参照してください)。"
      ]
    },
    {
      "cell_type": "code",
      "execution_count": 28,
      "metadata": {
        "collapsed": false
      },
      "outputs": [
        {
          "name": "stdout",
          "output_type": "stream",
          "text": [
            "Feature batch shape: torch.Size([64, 1, 28, 28])\n",
            "Labels batch shape: torch.Size([64])\n"
          ]
        },
        {
          "data": {
            "image/png": "[encoded data removed]",
            "text/plain": [
              "<Figure size 640x480 with 1 Axes>"
            ]
          },
          "metadata": {},
          "output_type": "display_data"
        },
        {
          "name": "stdout",
          "output_type": "stream",
          "text": [
            "Label: 4\n"
          ]
        }
      ],
      "source": [
        "# Display image and label.\n",
        "# 繰り返し実行\n",
        "train_features, train_labels = next(iter(train_dataloader))\n",
        "print(f\"Feature batch shape: {train_features.size()}\")\n",
        "print(f\"Labels batch shape: {train_labels.size()}\")\n",
        "img = train_features[0].squeeze()\n",
        "label = train_labels[0]\n",
        "plt.imshow(img, cmap=\"gray\")\n",
        "plt.show()\n",
        "print(f\"Label: {label}\")"
      ]
    },
    {
      "attachments": {},
      "cell_type": "markdown",
      "metadata": {},
      "source": [
        "# Transforms\n",
        "機械学習アルゴリズムの学習に必要なデータは、必ずしも最終的に加工された形で提供されるわけではありません。\n",
        "機械学習アルゴリズムの学習に必要な最終的な加工が施された状態で提供されるとは限りません。私たちは、**変換**を使用して、データに何らかの操作を加え\n",
        "を使用して、データに何らかの加工を施し、学習に適した状態にします。\n",
        "\n",
        "すべてのTorchVisionデータセットには2つのパラメータがあります -``transform`` で特徴量を変更し\n",
        "ラベルを変更するための ``target_transform`` という2つのパラメータがあり、変換ロジックを含むcallableを受け取ります。\n",
        "[torchvision.transforms](https://pytorch.org/vision/stable/transforms.html)モジュールは、以下のような変換ロジックを提供します。\n",
        "モジュールは、よく使われるいくつかの変換をそのまま提供します。\n",
        "\n",
        "FashionMNISTの特徴はPIL Imageフォーマットで、ラベルは整数値です。\n",
        "学習には、特徴量を正規化したテンソル、ラベルを一光子符号化したテンソルが必要です。\n",
        "これらの変換を行うために、 ``ToTensor`` と ``Lambda`` を使用します。\n",
        "\n"
      ]
    },
    {
      "cell_type": "code",
      "execution_count": 29,
      "metadata": {
        "collapsed": false
      },
      "outputs": [],
      "source": [
        "import torch\n",
        "from torchvision import datasets\n",
        "from torchvision.transforms import ToTensor, Lambda\n",
        "\n",
        "ds = datasets.FashionMNIST(\n",
        "    root=\"data\",\n",
        "    train=True,\n",
        "    download=True,\n",
        "    transform=ToTensor(),\n",
        "    target_transform=Lambda(lambda y: torch.zeros(10, dtype=torch.float).scatter_(0, torch.tensor(y), value=1))\n",
        ")"
      ]
    },
    {
      "attachments": {},
      "cell_type": "markdown",
      "metadata": {},
      "source": [
        "## ToTensor()\n",
        "\n",
        "[ToTensor](https://pytorch.org/vision/stable/transforms.html#torchvision.transforms.ToTensor)\n",
        "PIL 画像または NumPy の ``ndarray`` を ``FloatTensor`` に変換し、画像のピクセル強度の値を [0., 1.] の範囲でスケーリングします．\n",
        "\n"
      ]
    },
    {
      "attachments": {},
      "cell_type": "markdown",
      "metadata": {},
      "source": [
        "## Lambda Transforms\n",
        "\n",
        "ラムダ変換は、ユーザーが定義した任意のラムダ関数を適用する。ここでは、整数を一発符号化されたテンソルに変換する関数\n",
        "を定義し、整数をワンホットエンコードされたテンソルに変換する。\n",
        "まず、サイズ10（データセットのラベル数）のゼロテンソルを生成し[scatter_](https://pytorch.org/docs/stable/generated/torch.Tensor.scatter_.html)を呼び出す。\n",
        "ラベル ``y`` で与えられるインデックスに ``value=1`` を代入する。\n"
      ]
    },
    {
      "cell_type": "code",
      "execution_count": 30,
      "metadata": {
        "collapsed": false
      },
      "outputs": [],
      "source": [
        "target_transform = Lambda(lambda y: torch.zeros(\n",
        "    10, dtype=torch.float).scatter_(dim=0, index=torch.tensor(y), value=1))"
      ]
    },
    {
      "cell_type": "markdown",
      "metadata": {},
      "source": [
        "--------------\n",
        "\n",
        "\n"
      ]
    },
    {
      "attachments": {},
      "cell_type": "markdown",
      "metadata": {},
      "source": [
        "# ニューラルネットワークの構築\n",
        "\n",
        "ニューラルネットワークはデータに対して演算を行う層/モジュールで構成されています。\n",
        "[torch.nn](https://pytorch.org/docs/stable/nn.html)の名前空間は、あなたが独自のニューラルネットワークを構築するために必要なすべてのビルディングブロックを提供します。\n",
        "名前空間は、あなた自身のニューラルネットワークを構築するために必要なすべてのビルディングブロックを提供します。PyTorchのすべてのモジュールは[nn.Module](https://pytorch.org/docs/stable/generated/torch.nn.Module.html)をサブクラスとしています。\n",
        "ニューラルネットワークは、他のモジュール(層)から構成されるモジュールそのものです。この入れ子構造により、複雑なアーキテクチャの構築と管理が容易になります。\n",
        "\n",
        "以下の章では、FashionMNISTデータセットの画像を分類するためのニューラルネットワークを構築します。"
      ]
    },
    {
      "cell_type": "code",
      "execution_count": null,
      "metadata": {
        "collapsed": false
      },
      "outputs": [],
      "source": [
        "import os\n",
        "import torch\n",
        "from torch import nn\n",
        "from torch.utils.data import DataLoader\n",
        "from torchvision import datasets, transforms"
      ]
    },
    {
      "attachments": {},
      "cell_type": "markdown",
      "metadata": {},
      "source": [
        "## 学習用デバイスの取得\n",
        "GPUのようなハードウェアアクセラレータでモデルを学習できるようにしたい。\n",
        "が利用可能であれば 以下のようにチェックします。\n",
        "[torch.cuda](https://pytorch.org/docs/stable/notes/cuda.html)が利用可能かどうか確認してみましょう。\n",
        "CPUを使い続けます。\n"
      ]
    },
    {
      "cell_type": "code",
      "execution_count": null,
      "metadata": {
        "collapsed": false
      },
      "outputs": [
        {
          "name": "stdout",
          "output_type": "stream",
          "text": [
            "Using cpu device\n"
          ]
        }
      ],
      "source": [
        "device = \"cuda\" if torch.cuda.is_available() else \"cpu\"\n",
        "print(f\"Using {device} device\")"
      ]
    },
    {
      "attachments": {},
      "cell_type": "markdown",
      "metadata": {},
      "source": [
        "## クラスを定義する\n",
        "ニューラルネットワークを ``nn.Module`` のサブクラスとして定義し、 ``__init__`` でニューラルネットワークのレイヤーを初期化します。\n",
        "ニューラルネットワークのレイヤーを ``__init__`` で初期化します。各 ``nn.Module`` のサブクラスは、 ``forward`` で入力データに対する操作を実装しています。"
      ]
    },
    {
      "cell_type": "code",
      "execution_count": null,
      "metadata": {
        "collapsed": false
      },
      "outputs": [],
      "source": [
        "class NeuralNetwork(nn.Module):\n",
        "    def __init__(self):\n",
        "        super(NeuralNetwork, self).__init__()\n",
        "        self.flatten = nn.Flatten()\n",
        "        self.linear_relu_stack = nn.Sequential(\n",
        "            nn.Linear(28*28, 512),\n",
        "            nn.ReLU(),\n",
        "            nn.Linear(512, 512),\n",
        "            nn.ReLU(),\n",
        "            nn.Linear(512, 10),\n",
        "        )\n",
        "\n",
        "    def forward(self, x):\n",
        "        x = self.flatten(x)\n",
        "        logits = self.linear_relu_stack(x)\n",
        "        return logits"
      ]
    },
    {
      "attachments": {},
      "cell_type": "markdown",
      "metadata": {},
      "source": [
        "``NeuralNetwork`` のインスタンスを生成して ``device`` に移動し、その構造を表示します。"
      ]
    },
    {
      "cell_type": "code",
      "execution_count": null,
      "metadata": {
        "collapsed": false
      },
      "outputs": [
        {
          "name": "stdout",
          "output_type": "stream",
          "text": [
            "NeuralNetwork(\n",
            "  (flatten): Flatten(start_dim=1, end_dim=-1)\n",
            "  (linear_relu_stack): Sequential(\n",
            "    (0): Linear(in_features=784, out_features=512, bias=True)\n",
            "    (1): ReLU()\n",
            "    (2): Linear(in_features=512, out_features=512, bias=True)\n",
            "    (3): ReLU()\n",
            "    (4): Linear(in_features=512, out_features=10, bias=True)\n",
            "  )\n",
            ")\n"
          ]
        }
      ],
      "source": [
        "model = NeuralNetwork().to(device)\n",
        "print(model)"
      ]
    },
    {
      "attachments": {},
      "cell_type": "markdown",
      "metadata": {},
      "source": [
        "モデルを使用するには、入力データを渡します。これにより、モデルの ``forward`` といくつかの [バックグラウンド処理](https://github.com/pytorch/pytorch/blob/270111b7b611d174967ed204776985cefca9c144/torch/nn/modules/module.py#L866) が実行されます。\n",
        "直接 ``model.forward()`` を呼び出さないでください!\n",
        "\n",
        "入力に対してモデルを呼び出すと、各クラスの10個の生の予測値の各出力に対応する dim=0 と、各出力の個々の値に対応する dim=1 の2次元のテンソルが返されます。\n",
        "これを ``nn.Softmax`` モジュールのインスタンスに渡すことで、予測確率を得ることができます。"
      ]
    },
    {
      "cell_type": "code",
      "execution_count": null,
      "metadata": {
        "collapsed": false
      },
      "outputs": [
        {
          "name": "stdout",
          "output_type": "stream",
          "text": [
            "Predicted class: tensor([3])\n"
          ]
        }
      ],
      "source": [
        "X = torch.rand(1, 28, 28, device=device)\n",
        "logits = model(X)\n",
        "pred_probab = nn.Softmax(dim=1)(logits)\n",
        "y_pred = pred_probab.argmax(1)\n",
        "print(f\"Predicted class: {y_pred}\")"
      ]
    },
    {
      "cell_type": "markdown",
      "metadata": {},
      "source": [
        "--------------\n",
        "\n",
        "\n"
      ]
    },
    {
      "attachments": {},
      "cell_type": "markdown",
      "metadata": {},
      "source": [
        "## モデルのレイヤー\n",
        "\n",
        "FashionMNISTモデルのレイヤーを分解してみましょう。これを説明するために\n",
        "サイズ28x28の3つの画像からなるミニバッチのサンプルを取り、それをネットワークに通すとどうなるかを見る。"
      ]
    },
    {
      "cell_type": "code",
      "execution_count": null,
      "metadata": {
        "collapsed": false
      },
      "outputs": [
        {
          "name": "stdout",
          "output_type": "stream",
          "text": [
            "torch.Size([3, 28, 28])\n"
          ]
        }
      ],
      "source": [
        "input_image = torch.rand(3,28,28)\n",
        "print(input_image.size())"
      ]
    },
    {
      "attachments": {},
      "cell_type": "markdown",
      "metadata": {},
      "source": [
        "### nn.Flatten\n",
        "[nn.Flatten](https://pytorch.org/docs/stable/generated/torch.nn.Flatten.html)を初期化する。\n",
        "レイヤーを初期化し，各2次元28x28画像を784ピクセル値の連続した配列に変換します (\n",
        "ミニバッチの次元(dim=0)は維持されます)に変換します。\n",
        "\n"
      ]
    },
    {
      "cell_type": "code",
      "execution_count": null,
      "metadata": {
        "collapsed": false
      },
      "outputs": [
        {
          "name": "stdout",
          "output_type": "stream",
          "text": [
            "torch.Size([3, 784])\n"
          ]
        }
      ],
      "source": [
        "flatten = nn.Flatten()\n",
        "flat_image = flatten(input_image)\n",
        "print(flat_image.size())"
      ]
    },
    {
      "attachments": {},
      "cell_type": "markdown",
      "metadata": {},
      "source": [
        "### nn.Linear\n",
        "[線形層](https://pytorch.org/docs/stable/generated/torch.nn.Linear.html)\n",
        "は、保存された重みとバイアスを使用して入力に線形変換を適用するモジュールです。\n"
      ]
    },
    {
      "cell_type": "code",
      "execution_count": null,
      "metadata": {
        "collapsed": false
      },
      "outputs": [
        {
          "name": "stdout",
          "output_type": "stream",
          "text": [
            "torch.Size([3, 20])\n"
          ]
        }
      ],
      "source": [
        "layer1 = nn.Linear(in_features=28*28, out_features=20)\n",
        "hidden1 = layer1(flat_image)\n",
        "print(hidden1.size())"
      ]
    },
    {
      "attachments": {},
      "cell_type": "markdown",
      "metadata": {},
      "source": [
        "### nn.ReLU\n",
        "非線形アクティベーションは、モデルの入力と出力の間の複雑なマッピングを作成するものです。\n",
        "線形変換の後に適用することで、非線形性を導入し、ニューラルネットワークが様々な現象を学習できるようにします。\n",
        "様々な現象を学習させることができます。\n",
        "\n",
        "このモデルでは、線形層の間に[nn.ReLU](https://pytorch.org/docs/stable/generated/torch.nn.ReLU.html)を使用しています。\n",
        "しかし、あなたのモデルに非直線性を導入するために他の活性化があります。"
      ]
    },
    {
      "cell_type": "code",
      "execution_count": null,
      "metadata": {
        "collapsed": false
      },
      "outputs": [
        {
          "name": "stdout",
          "output_type": "stream",
          "text": [
            "Before ReLU: tensor([[ 0.0061,  0.3501, -0.2831, -0.0748, -0.5628, -0.3663,  0.5070, -0.0542,\n",
            "          0.0074, -0.3425,  0.2388,  0.5941, -0.0052, -0.2502,  0.1010, -0.1993,\n",
            "         -0.5807,  0.0267,  0.3028, -0.2059],\n",
            "        [ 0.1252,  0.2977, -0.2495, -0.3253, -0.0790, -0.4491,  0.4364, -0.4828,\n",
            "         -0.0539, -0.4670,  0.3034,  0.5885, -0.0623, -0.3835,  0.1391, -0.2973,\n",
            "         -0.8129,  0.3551,  0.4593, -0.5179],\n",
            "        [ 0.2823,  0.1273, -0.3789,  0.0602, -0.0666, -0.7040,  0.0302, -0.5546,\n",
            "          0.1214, -0.2027,  0.2214,  0.5720, -0.2314, -0.3769, -0.0344,  0.1990,\n",
            "         -0.9422,  0.2650,  0.2597, -0.3966]], grad_fn=<AddmmBackward0>)\n",
            "\n",
            "\n",
            "After ReLU: tensor([[0.0061, 0.3501, 0.0000, 0.0000, 0.0000, 0.0000, 0.5070, 0.0000, 0.0074,\n",
            "         0.0000, 0.2388, 0.5941, 0.0000, 0.0000, 0.1010, 0.0000, 0.0000, 0.0267,\n",
            "         0.3028, 0.0000],\n",
            "        [0.1252, 0.2977, 0.0000, 0.0000, 0.0000, 0.0000, 0.4364, 0.0000, 0.0000,\n",
            "         0.0000, 0.3034, 0.5885, 0.0000, 0.0000, 0.1391, 0.0000, 0.0000, 0.3551,\n",
            "         0.4593, 0.0000],\n",
            "        [0.2823, 0.1273, 0.0000, 0.0602, 0.0000, 0.0000, 0.0302, 0.0000, 0.1214,\n",
            "         0.0000, 0.2214, 0.5720, 0.0000, 0.0000, 0.0000, 0.1990, 0.0000, 0.2650,\n",
            "         0.2597, 0.0000]], grad_fn=<ReluBackward0>)\n"
          ]
        }
      ],
      "source": [
        "print(f\"Before ReLU: {hidden1}\\n\\n\")\n",
        "hidden1 = nn.ReLU()(hidden1)\n",
        "print(f\"After ReLU: {hidden1}\")"
      ]
    },
    {
      "attachments": {},
      "cell_type": "markdown",
      "metadata": {},
      "source": [
        "### nn.Sequential\n",
        "[nn.Sequential](https://pytorch.org/docs/stable/generated/torch.nn.Sequential.html)は、順番に並べられた\n",
        "モジュールのコンテナです。データは、定義されたとおりの順序ですべてのモジュールに渡されます。を使うことができます。\n",
        "シーケンシャルコンテナを使って、 ``seq_modules`` のように素早くネットワークを構築することができます。\n",
        "\n"
      ]
    },
    {
      "cell_type": "code",
      "execution_count": null,
      "metadata": {
        "collapsed": false
      },
      "outputs": [],
      "source": [
        "seq_modules = nn.Sequential(\n",
        "    flatten,\n",
        "    layer1,\n",
        "    nn.ReLU(),\n",
        "    nn.Linear(20, 10)\n",
        ")\n",
        "input_image = torch.rand(3,28,28)\n",
        "logits = seq_modules(input_image)"
      ]
    },
    {
      "attachments": {},
      "cell_type": "markdown",
      "metadata": {},
      "source": [
        "### nn.Softmax\n",
        "ニューラルネットワークの最後の線形層は `logits` - [-\\infty, \\infty] の実数- を返し、[nn.Softmax](https://pytorch.org/docs/stable/generated/torch.nn.Softmax.html) モジュールに渡されます。logitsはモデルを表す[0, 1]の値にスケーリングされる。\n",
        "[0, 1]の値にスケーリングされ、各クラスに対するモデルの予測確率を表します。パラメータ ``dim`` は次元を表します。\n",
        "パラメータは，値の合計が1になる次元を表します．\n",
        "\n"
      ]
    },
    {
      "cell_type": "code",
      "execution_count": null,
      "metadata": {
        "collapsed": false
      },
      "outputs": [],
      "source": [
        "softmax = nn.Softmax(dim=1)\n",
        "pred_probab = softmax(logits)"
      ]
    },
    {
      "attachments": {},
      "cell_type": "markdown",
      "metadata": {},
      "source": [
        "## Model Parameters\n",
        "ニューラルネットワークの多くの層はパラメータ化されており、学習時に最適化された重みとバイアスがあります。\n",
        "とバイアスがあり、学習中に最適化されます。``nn.Module`` のサブクラスは自動的に\n",
        "をサブクラス化すると、モデルオブジェクト内で定義されたすべてのフィールドを追跡し、すべてのパラメータにアクセスできるようになります。\n",
        "また、モデルの ``parameters()`` や ``named_parameters()`` メソッドを用いて、すべてのパラメータにアクセスできるようになります。\n",
        "\n",
        "この例では、各パラメータを繰り返し処理し、そのサイズと値のプレビューを表示します。\n",
        "\n",
        "\n"
      ]
    },
    {
      "cell_type": "code",
      "execution_count": null,
      "metadata": {
        "collapsed": false
      },
      "outputs": [
        {
          "name": "stdout",
          "output_type": "stream",
          "text": [
            "Model structure: NeuralNetwork(\n",
            "  (flatten): Flatten(start_dim=1, end_dim=-1)\n",
            "  (linear_relu_stack): Sequential(\n",
            "    (0): Linear(in_features=784, out_features=512, bias=True)\n",
            "    (1): ReLU()\n",
            "    (2): Linear(in_features=512, out_features=512, bias=True)\n",
            "    (3): ReLU()\n",
            "    (4): Linear(in_features=512, out_features=10, bias=True)\n",
            "  )\n",
            ")\n",
            "\n",
            "\n",
            "Layer: linear_relu_stack.0.weight | Size: torch.Size([512, 784]) | Values : tensor([[ 0.0171, -0.0329, -0.0112,  ..., -0.0309,  0.0098, -0.0147],\n",
            "        [-0.0060,  0.0020,  0.0290,  ...,  0.0055,  0.0288, -0.0051]],\n",
            "       grad_fn=<SliceBackward0>) \n",
            "\n",
            "Layer: linear_relu_stack.0.bias | Size: torch.Size([512]) | Values : tensor([0.0354, 0.0317], grad_fn=<SliceBackward0>) \n",
            "\n",
            "Layer: linear_relu_stack.2.weight | Size: torch.Size([512, 512]) | Values : tensor([[ 0.0202, -0.0007, -0.0076,  ...,  0.0421,  0.0263,  0.0313],\n",
            "        [-0.0230,  0.0301, -0.0362,  ..., -0.0008, -0.0017, -0.0152]],\n",
            "       grad_fn=<SliceBackward0>) \n",
            "\n",
            "Layer: linear_relu_stack.2.bias | Size: torch.Size([512]) | Values : tensor([-0.0075, -0.0016], grad_fn=<SliceBackward0>) \n",
            "\n",
            "Layer: linear_relu_stack.4.weight | Size: torch.Size([10, 512]) | Values : tensor([[ 0.0351, -0.0084,  0.0174,  ...,  0.0097, -0.0415, -0.0077],\n",
            "        [-0.0044, -0.0135,  0.0315,  ...,  0.0411, -0.0083, -0.0179]],\n",
            "       grad_fn=<SliceBackward0>) \n",
            "\n",
            "Layer: linear_relu_stack.4.bias | Size: torch.Size([10]) | Values : tensor([-0.0072, -0.0017], grad_fn=<SliceBackward0>) \n",
            "\n"
          ]
        }
      ],
      "source": [
        "print(f\"Model structure: {model}\\n\\n\")\n",
        "\n",
        "for name, param in model.named_parameters():\n",
        "    print(f\"Layer: {name} | Size: {param.size()} | Values : {param[:2]} \\n\")"
      ]
    },
    {
      "cell_type": "markdown",
      "metadata": {},
      "source": [
        "--------------\n",
        "\n",
        "\n"
      ]
    },
    {
      "attachments": {},
      "cell_type": "markdown",
      "metadata": {},
      "source": [
        "# Automatic Differentiation with ``torch.autograd``\n",
        "\n",
        "ニューラルネットワークを学習させる場合、最もよく使われるアルゴリズムが**逆伝播法**である。このアルゴリズムでは、パラメータ（モデルの重み）が損失関数の**勾配**にしたがって調整される。\n",
        "\n",
        "この勾配を計算するために、PyTorchは ``torch.authime`` という微分エンジンを内蔵しています。\n",
        "と呼ばれる微分エンジンを内蔵しています。これは、任意の計算グラフに対して勾配の自動計算をサポートします。\n",
        "計算グラフの勾配の自動計算をサポートします。\n",
        "\n",
        "例えば、最も単純な1層のニューラルネットワークを考えてみましょう。\n",
        "パラメータ ``w`` と ``b`` 、そして何らかの損失関数を持つ、最も単純な 1 層のニューラルネットワークを考えてみましょう。これは\n",
        "PyTorch では次のように定義できる。"
      ]
    },
    {
      "cell_type": "code",
      "execution_count": 39,
      "metadata": {
        "collapsed": false
      },
      "outputs": [],
      "source": [
        "import torch\n",
        "\n",
        "x = torch.ones(5)  # input tensor\n",
        "y = torch.zeros(3)  # expected output\n",
        "w = torch.randn(5, 3, requires_grad=True)\n",
        "b = torch.randn(3, requires_grad=True)\n",
        "z = torch.matmul(x, w)+b\n",
        "loss = torch.nn.functional.binary_cross_entropy_with_logits(z, y)"
      ]
    },
    {
      "attachments": {},
      "cell_type": "markdown",
      "metadata": {},
      "source": [
        "## Tensors, Functions and Computational graph\n",
        "\n",
        "このコードは、次のような**計算グラフ**を定義しています。\n",
        "\n",
        "![図](https://pytorch.org/tutorials/_images/comp-graph.png)\n",
        "\n",
        "このネットワークでは、``w`` と ``b`` が **パラメータ** であり、これを最適化する必要があります。\n",
        "最適化する必要があります。したがって、これらの変数に関する損失関数の勾配を計算できる必要があります。\n",
        "関数の勾配を計算できるようにする必要があります。これを実現するために\n",
        "を設定する。\n"
      ]
    },
    {
      "attachments": {},
      "cell_type": "markdown",
      "metadata": {},
      "source": [
        "``requires_grad`` の値は、テンソルを作成するときに設定するか、後で ``x.requires_grad_(True)`` メソッドを使用して設定することができる。"
      ]
    },
    {
      "attachments": {},
      "cell_type": "markdown",
      "metadata": {},
      "source": [
        "テンソルに適用して計算グラフを構築する関数は、実際には ``Function`` クラスのオブジェクトである。このオブジェクトは、*forward* 方向の関数の計算方法と、*backward propagation* ステップでのその微分の計算方法を持っています。後方伝搬関数への参照は、テンソルの ``grad_fn`` プロパティに格納される。関数 ``Function`` の詳細については、[ドキュメント](https://pytorch.org/docs/stable/autograd.html#function)を参照してください。\n"
      ]
    },
    {
      "cell_type": "code",
      "execution_count": 40,
      "metadata": {
        "collapsed": false
      },
      "outputs": [
        {
          "name": "stdout",
          "output_type": "stream",
          "text": [
            "Gradient function for z = <AddBackward0 object at 0x17ed279d0>\n",
            "Gradient function for loss = <BinaryCrossEntropyWithLogitsBackward0 object at 0x17ed27e80>\n"
          ]
        }
      ],
      "source": [
        "print(f\"Gradient function for z = {z.grad_fn}\")\n",
        "print(f\"Gradient function for loss = {loss.grad_fn}\")"
      ]
    },
    {
      "attachments": {},
      "cell_type": "markdown",
      "metadata": {},
      "source": [
        "## Computing Gradients\n",
        "\n",
        "ニューラルネットワークのパラメータの重みを最適化するためには、損失関数のパラメータに関する導関数を計算する必要があります。つまり、固定値 ``x``と``y``の下で、$\\frac{\\partial loss}{\\partial w}$ と $\\frac{\\partial loss}{\\partial b}$ が必要です。\n",
        "これらの導関数を計算するために、 ``loss.backward()`` を呼び出し、 ``w.grad`` と ``b.grad`` から値を取得します。\n",
        "\n"
      ]
    },
    {
      "cell_type": "code",
      "execution_count": 41,
      "metadata": {
        "collapsed": false
      },
      "outputs": [
        {
          "name": "stdout",
          "output_type": "stream",
          "text": [
            "tensor([[0.2489, 0.3117, 0.3249],\n",
            "        [0.2489, 0.3117, 0.3249],\n",
            "        [0.2489, 0.3117, 0.3249],\n",
            "        [0.2489, 0.3117, 0.3249],\n",
            "        [0.2489, 0.3117, 0.3249]])\n",
            "tensor([0.2489, 0.3117, 0.3249])\n"
          ]
        }
      ],
      "source": [
        "loss.backward()\n",
        "print(w.grad)\n",
        "print(b.grad)"
      ]
    },
    {
      "attachments": {},
      "cell_type": "markdown",
      "metadata": {},
      "source": [
        "## Disabling Gradient Tracking\n",
        "\n",
        "デフォルトでは、 ``requires_grad=True`` のテンソルはすべて計算履歴を追跡し、勾配計算をサポートする。\n",
        "しかし、その必要がない場合もある。例えば、モデルを学習させ、それを入力データに適用したい場合、つまり、ネットワークを通して*フォワード*計算を行いたいだけという場合である。計算コードを ``torch.no_grad()`` ブロックで囲むことで、トラッキング計算を停止させることができます。\n",
        "\n",
        "\n"
      ]
    },
    {
      "cell_type": "code",
      "execution_count": null,
      "metadata": {
        "collapsed": false
      },
      "outputs": [
        {
          "name": "stdout",
          "output_type": "stream",
          "text": [
            "True\n",
            "False\n"
          ]
        }
      ],
      "source": [
        "z = torch.matmul(x, w)+b\n",
        "print(z.requires_grad)\n",
        "\n",
        "with torch.no_grad():\n",
        "    z = torch.matmul(x, w)+b\n",
        "print(z.requires_grad)"
      ]
    },
    {
      "attachments": {},
      "cell_type": "markdown",
      "metadata": {},
      "source": [
        "同じ結果を得るためのもう一つの方法は、テンソルに対して ``detach()`` メソッドを使用することです。\n",
        "\n",
        "\n"
      ]
    },
    {
      "cell_type": "code",
      "execution_count": null,
      "metadata": {
        "collapsed": false
      },
      "outputs": [
        {
          "name": "stdout",
          "output_type": "stream",
          "text": [
            "False\n"
          ]
        }
      ],
      "source": [
        "z = torch.matmul(x, w)+b\n",
        "z_det = z.detach()\n",
        "print(z_det.requires_grad)"
      ]
    },
    {
      "attachments": {},
      "cell_type": "markdown",
      "metadata": {},
      "source": [
        "グラディエント・トラッキングを無効にしたい理由があります。\n",
        "  - ニューラルネットワークのいくつかのパラメータを**frozen parameters**としてマークするため。これは\n",
        "    これは非常に一般的なシナリオです。\n",
        "    [finetuning a pretrained network](https://pytorch.org/tutorials/beginner/finetuning_torchvision_models_tutorial.html)\n",
        "  - 勾配を追跡しないテンソルの計算の方がより高速になるため、フォワードパスだけを行う場合の計算を**高速化する。\n",
        "    勾配を追跡しないテンソルの計算がより効率的であるため。\n"
      ]
    },
    {
      "attachments": {},
      "cell_type": "markdown",
      "metadata": {},
      "source": [
        "## More on Computational Graphs\n",
        "概念的には、autogradはデータ(テンソル)と実行されたすべての操作(結果の新しいテンソルも含む)の記録を\n",
        "[Function](https://pytorch.org/docs/stable/autograd.html#torch.autograd.Function) オブジェクトからなる有向非循環グラフ (DAG) に記録する。この DAG において、葉は入力テンソル、根は出力テンソ ルである。このグラフを根から葉までたどれば、鎖の法則を使って自動的に勾配を計算することができる。\n",
        "\n",
        "フォワードパスにおいて、autogradは同時に2つのことを行う。\n",
        "\n",
        "- 要求された演算を実行し、結果のテンソルを計算する\n",
        "- DAGの中で操作の*勾配関数*を維持する。\n",
        "\n",
        "バックワードパスは ``.backward()`` がDAGルートで呼ばれたときにキックオフされます。その後、 ``autograd`` が呼び出される。\n",
        "\n",
        "- 各 ``.grad_fn`` から勾配を計算する。\n",
        "- 各テンソルの ``.grad`` 属性に蓄積する。\n"
      ]
    },
    {
      "attachments": {},
      "cell_type": "markdown",
      "metadata": {},
      "source": [
        "## Optional Reading: テンソル勾配とヤコビアン積\n",
        "\n",
        "多くの場合，スカラー損失関数があり，あるパラメータに対する勾配 を計算する必要があります．しかし は、出力関数が任意のテンソルである場合です。このような場合、PyTorch では、実際の勾配ではなく、いわゆる **ヤコビアン積** を計算することができます。を計算することができます。\n",
        "\n",
        "$\\vec{x}=\\langle x_1,\\dots,x_n\\rangle$ と $\\vec{y}=\\langle y_1,\\dots,y_m\\rangle$とする、ベクトル関数 $\\vec{y}=f(\\vec{x})$ の $\\vec{x}$ に対する $\\vec{y}$ の勾配は **Jacobian行列**で与えられる。\n",
        "\n",
        "\\begin{align}J=\\left(\\begin{array}{ccc}\n",
        "      \\frac{\\partial y_{1}}{\\partial x_{1}} & \\cdots & \\frac{\\partial y_{1}}{\\partial x_{n}}\\\\\n",
        "      \\vdots & \\ddots & \\vdots\\\\\n",
        "      \\frac{\\partial y_{m}}{\\partial x_{1}} & \\cdots & \\frac{\\partial y_{m}}{\\partial x_{n}}\n",
        "      \\end{array}\\right)\\end{align}\n",
        "\n",
        "\n",
        "PyTorchでは、ヤコビアン行列そのものを計算する代わりに、与えられた入力ベクトル $v=(v_1 \\dots v_m)$ に対する **Jacobian Product** $v^T\\cdot J$ を計算することが可能です。これは、$v$を引数として ``backward`` を呼び出すことで実現されます。 $v$ のサイズは、積を計算したい元のテンソルのサイズと同じでなければなりません。\n"
      ]
    },
    {
      "cell_type": "code",
      "execution_count": null,
      "metadata": {
        "collapsed": false
      },
      "outputs": [
        {
          "name": "stdout",
          "output_type": "stream",
          "text": [
            "First call\n",
            "tensor([[4., 2., 2., 2., 2.],\n",
            "        [2., 4., 2., 2., 2.],\n",
            "        [2., 2., 4., 2., 2.],\n",
            "        [2., 2., 2., 4., 2.]])\n",
            "\n",
            "Second call\n",
            "tensor([[8., 4., 4., 4., 4.],\n",
            "        [4., 8., 4., 4., 4.],\n",
            "        [4., 4., 8., 4., 4.],\n",
            "        [4., 4., 4., 8., 4.]])\n",
            "\n",
            "Call after zeroing gradients\n",
            "tensor([[4., 2., 2., 2., 2.],\n",
            "        [2., 4., 2., 2., 2.],\n",
            "        [2., 2., 4., 2., 2.],\n",
            "        [2., 2., 2., 4., 2.]])\n"
          ]
        }
      ],
      "source": [
        "inp = torch.eye(4, 5, requires_grad=True)\n",
        "out = (inp+1).pow(2).t()\n",
        "out.backward(torch.ones_like(out), retain_graph=True)\n",
        "print(f\"First call\\n{inp.grad}\")\n",
        "out.backward(torch.ones_like(out), retain_graph=True)\n",
        "print(f\"\\nSecond call\\n{inp.grad}\")\n",
        "inp.grad.zero_()\n",
        "out.backward(torch.ones_like(out), retain_graph=True)\n",
        "print(f\"\\nCall after zeroing gradients\\n{inp.grad}\")"
      ]
    },
    {
      "attachments": {},
      "cell_type": "markdown",
      "metadata": {},
      "source": [
        "同じ引数で2回目の ``backward`` を呼び出したとき、勾配の値が異なることに注意してください。これは、 ``backward`` 伝搬を行う際に、PyTorch が **勾配を累積する** ためで、つまり、計算された勾配の値は、計算グラフのすべてのリーフノードの ``grad`` プロパティに追加されることになります。つまり、計算された勾配の値は、計算グラフのすべてのリーフノードの ``grad`` プロパティに追加されます。適切な勾配を計算したい場合は、事前に ``grad`` プロパティをゼロにする必要があります。実際のトレーニングでは、*最適化ツール* がこれを手助けしてくれます。\n"
      ]
    },
    {
      "attachments": {},
      "cell_type": "markdown",
      "metadata": {},
      "source": [
        "以前は ``backward()`` 関数をパラメータなしで呼び出していました。これは本質的には ``backward(torch.tensor(1.0))`` を呼び出すことと同じで、ニューラルネットワークの学習における損失のようなスカラー値を持つ関数の場合に勾配を計算するのに便利な方法です。\n",
        "\n",
        "\n"
      ]
    },
    {
      "cell_type": "markdown",
      "metadata": {},
      "source": [
        "--------------\n",
        "\n",
        "\n"
      ]
    },
    {
      "attachments": {},
      "cell_type": "markdown",
      "metadata": {},
      "source": [
        "# Optimizing Model Parameters\n",
        "\n",
        "モデルとデータが揃ったので、次はデータに対してモデルのパラメータを最適化することで、モデルを訓練、検証、テストする番です。モデルの学習は反復プロセスです。各反復において、モデルは出力について推測し、その推測の誤差（*損失*）を計算し、その誤差のパラメータに対する導関数を収集し（前のセクションで見たように）、勾配降下を使用してこれらのパラメータを**最適化**します。\n",
        "\n",
        "## 前提となるコード\n",
        "データセットとデータローダー、モデルの構築で使ったコードを再利用します。\n"
      ]
    },
    {
      "cell_type": "code",
      "execution_count": 42,
      "metadata": {
        "collapsed": false
      },
      "outputs": [],
      "source": [
        "import torch\n",
        "from torch import nn\n",
        "from torch.utils.data import DataLoader\n",
        "from torchvision import datasets\n",
        "from torchvision.transforms import ToTensor\n",
        "\n",
        "training_data = datasets.FashionMNIST(\n",
        "    root=\"data\",\n",
        "    train=True,\n",
        "    download=True,\n",
        "    transform=ToTensor()\n",
        ")\n",
        "\n",
        "test_data = datasets.FashionMNIST(\n",
        "    root=\"data\",\n",
        "    train=False,\n",
        "    download=True,\n",
        "    transform=ToTensor()\n",
        ")\n",
        "\n",
        "train_dataloader = DataLoader(training_data, batch_size=64)\n",
        "test_dataloader = DataLoader(test_data, batch_size=64)\n",
        "\n",
        "class NeuralNetwork(nn.Module):\n",
        "    def __init__(self):\n",
        "        super(NeuralNetwork, self).__init__()\n",
        "        self.flatten = nn.Flatten()\n",
        "        self.linear_relu_stack = nn.Sequential(\n",
        "            nn.Linear(28*28, 512),\n",
        "            nn.ReLU(),\n",
        "            nn.Linear(512, 512),\n",
        "            nn.ReLU(),\n",
        "            nn.Linear(512, 10),\n",
        "        )\n",
        "\n",
        "    def forward(self, x):\n",
        "        x = self.flatten(x)\n",
        "        logits = self.linear_relu_stack(x)\n",
        "        return logits\n",
        "\n",
        "model = NeuralNetwork()"
      ]
    },
    {
      "attachments": {},
      "cell_type": "markdown",
      "metadata": {},
      "source": [
        "## Hyperparameters\n",
        "\n",
        "ハイパーパラメーターは、モデルの最適化プロセスを制御するための調整可能なパラメーターです。ハイパーパラメータの値が異なると、モデルの学習や収束率に影響を与えます（ハイパーパラメータのチューニングについては[続きを読む](https://pytorch.org/tutorials/beginner/hyperparameter_tuning_tutorial.html)をご覧ください）。\n",
        "\n",
        "ここでは、学習用のハイパーパラメータを以下のように定義しています。\n",
        " - **エポック数** - データセットに対して反復処理を行う回数\n",
        " - **バッチサイズ** - パラメータが更新される前にネットワークに伝搬されるデータサンプルの個数\n",
        " - **学習速度** - 各バッチ/エポックにおいて、モデルのパラメータをどれだけ更新するか。小さい値を設定すると学習速度が遅くなり、大きい値を設定すると学習時に予測不可能な挙動をする可能性がある。\n",
        "\n",
        "\n"
      ]
    },
    {
      "cell_type": "code",
      "execution_count": 43,
      "metadata": {
        "collapsed": false
      },
      "outputs": [],
      "source": [
        "learning_rate = 1e-3\n",
        "batch_size = 64\n",
        "epochs = 5"
      ]
    },
    {
      "attachments": {},
      "cell_type": "markdown",
      "metadata": {},
      "source": [
        "## Optimization Loop\n",
        "\n",
        "ハイパーパラメータを設定したら、ループ処理でモデルを学習し最適化することができます。ループ処理の各反復は、**エポック**と呼ばれます。\n",
        "\n",
        "各エポックは主に2つの部分から構成されています。\n",
        " - **訓練ループ** - 訓練データセットを繰り返し、最適なパラメータに収束させようとする。\n",
        " - **検証/テストループ** - テストデータセットを繰り返し処理し、モデルの性能が向上しているかどうかを確認します。\n",
        "\n",
        "トレーニングループで使われるいくつかの概念について簡単に説明します。\n",
        "\n",
        "### 損失関数\n",
        "\n",
        "学習データを提示されたとき、学習していないネットワークは正しい答えを出さない可能性が高いです。**損失関数**は、得られた結果の目標値に対する非類似度を測定するもので、学習中に最小化したい損失関数です。損失を計算するために、与えられたデータサンプルの入力を使って予測を行い、真のデータラベルの値と比較します。\n",
        "\n",
        "一般的な損失関数は回帰タスクの[nn.MSELoss](https://pytorch.org/docs/stable/generated/torch.nn.MSELoss.html#torch.nn.MSELoss) (Mean Square Error)、分類の[nn.NLLLoss](https://pytorch.org/docs/stable/generated/torch.nn.NLLLoss.html#torch.nn.NLLLoss) (Negative Log Likelihood)などです。\n",
        "[nn.CrossEntropyLoss](https://pytorch.org/docs/stable/generated/torch.nn.CrossEntropyLoss.html#torch.nn.CrossEntropyLoss) は ``nn.LogSoftmax`` と ``nn.NLLoss`` を結合したものです。\n",
        "\n",
        "モデルの出力ロジットを ``nn.CrossEntropyLoss`` に渡すと、ロジットが正規化されて予測誤差が計算されます。"
      ]
    },
    {
      "cell_type": "code",
      "execution_count": 44,
      "metadata": {
        "collapsed": false
      },
      "outputs": [],
      "source": [
        "# Initialize the loss function\n",
        "loss_fn = nn.CrossEntropyLoss()"
      ]
    },
    {
      "attachments": {},
      "cell_type": "markdown",
      "metadata": {},
      "source": [
        "### Optimizer\n",
        "\n",
        "最適化とは、各トレーニングステップにおいて、モデルの誤差を減らすためにモデルのパラメータを調整するプロセスです。**最適化アルゴリズム** は、このプロセスの実行方法を定義します（この例では、Stochastic Gradient Descent を使用します）。\n",
        "すべての最適化ロジックは ``optimizer`` オブジェクトにカプセル化されています。ここでは、SGDオプティマイザを使用しています。さらに、PyTorchにはADAMやRMSPropなど多くの[異なるオプティマイザ](https://pytorch.org/docs/stable/optim.html)があります。\n",
        "\n",
        "学習が必要なモデルのパラメータを登録し、学習率ハイパーパラメータを渡すことでオプティマイザを初期化します。\n"
      ]
    },
    {
      "cell_type": "code",
      "execution_count": 45,
      "metadata": {
        "collapsed": false
      },
      "outputs": [],
      "source": [
        "optimizer = torch.optim.SGD(model.parameters(), lr=learning_rate)"
      ]
    },
    {
      "attachments": {},
      "cell_type": "markdown",
      "metadata": {},
      "source": [
        "学習ループの内部では、3つのステップで最適化が行われます。\n",
        " * モデルパラメータの勾配をリセットするために ``optimizer.zero_grad()`` をコールします。勾配はデフォルトで加算されます。二重計算を防ぐために、各反復で明示的にゼロにします。\n",
        " * 予測損失は ``loss.backward()`` のコールでバックプロパゲートされます。PyTorchは、各パラメータに対する損失の勾配を記録します。\n",
        " * 勾配が得られたら、 ``optimizer.step()`` を呼び出して、バックワードパスで収集した勾配を元にパラメータを調整します。\n"
      ]
    },
    {
      "attachments": {},
      "cell_type": "markdown",
      "metadata": {},
      "source": [
        "\n",
        "## Full Implementation\n",
        "最適化コードをループする ``train_loop`` と、テストデータに対してモデルの性能を評価する ``test_loop`` を定義する。\n",
        "テストデータに対してモデルの性能を評価する ``test_loop`` を定義する。\n",
        "\n"
      ]
    },
    {
      "cell_type": "code",
      "execution_count": 46,
      "metadata": {
        "collapsed": false
      },
      "outputs": [],
      "source": [
        "def train_loop(dataloader, model, loss_fn, optimizer):\n",
        "    size = len(dataloader.dataset)\n",
        "    for batch, (X, y) in enumerate(dataloader):\n",
        "        # Compute prediction and loss\n",
        "        pred = model(X)\n",
        "        loss = loss_fn(pred, y)\n",
        "\n",
        "        # Backpropagation\n",
        "        optimizer.zero_grad()\n",
        "        loss.backward()\n",
        "        optimizer.step()\n",
        "\n",
        "        if batch % 100 == 0:\n",
        "            loss, current = loss.item(), batch * len(X)\n",
        "            print(f\"loss: {loss:>7f}  [{current:>5d}/{size:>5d}]\")\n",
        "\n",
        "\n",
        "def test_loop(dataloader, model, loss_fn):\n",
        "    size = len(dataloader.dataset)\n",
        "    num_batches = len(dataloader)\n",
        "    test_loss, correct = 0, 0\n",
        "\n",
        "    with torch.no_grad():\n",
        "        for X, y in dataloader:\n",
        "            pred = model(X)\n",
        "            test_loss += loss_fn(pred, y).item()\n",
        "            correct += (pred.argmax(1) == y).type(torch.float).sum().item()\n",
        "\n",
        "    test_loss /= num_batches\n",
        "    correct /= size\n",
        "    print(f\"Test Error: \\n Accuracy: {(100*correct):>0.1f}%, Avg loss: {test_loss:>8f} \\n\")"
      ]
    },
    {
      "attachments": {},
      "cell_type": "markdown",
      "metadata": {},
      "source": [
        "損失関数とオプティマイザを初期化し、 ``train_loop`` と ``test_loop`` に渡します。\n",
        "エポック数を増やして、モデルの性能が向上していることを自由に確認することができます。"
      ]
    },
    {
      "cell_type": "code",
      "execution_count": 47,
      "metadata": {
        "collapsed": false
      },
      "outputs": [
        {
          "name": "stdout",
          "output_type": "stream",
          "text": [
            "Epoch 1\n",
            "-------------------------------\n",
            "loss: 2.306156  [    0/60000]\n",
            "loss: 2.292078  [ 6400/60000]\n",
            "loss: 2.267754  [12800/60000]\n",
            "loss: 2.263288  [19200/60000]\n",
            "loss: 2.249501  [25600/60000]\n",
            "loss: 2.219507  [32000/60000]\n",
            "loss: 2.227329  [38400/60000]\n",
            "loss: 2.200620  [44800/60000]\n",
            "loss: 2.196187  [51200/60000]\n",
            "loss: 2.156735  [57600/60000]\n",
            "Test Error: \n",
            " Accuracy: 45.6%, Avg loss: 2.158037 \n",
            "\n",
            "Epoch 2\n",
            "-------------------------------\n",
            "loss: 2.176250  [    0/60000]\n",
            "loss: 2.165834  [ 6400/60000]\n",
            "loss: 2.103708  [12800/60000]\n",
            "loss: 2.116235  [19200/60000]\n",
            "loss: 2.072739  [25600/60000]\n",
            "loss: 2.015505  [32000/60000]\n",
            "loss: 2.035472  [38400/60000]\n",
            "loss: 1.967360  [44800/60000]\n",
            "loss: 1.971847  [51200/60000]\n",
            "loss: 1.887933  [57600/60000]\n",
            "Test Error: \n",
            " Accuracy: 59.6%, Avg loss: 1.894769 \n",
            "\n",
            "Epoch 3\n",
            "-------------------------------\n",
            "loss: 1.936851  [    0/60000]\n",
            "loss: 1.907815  [ 6400/60000]\n",
            "loss: 1.786523  [12800/60000]\n",
            "loss: 1.819150  [19200/60000]\n",
            "loss: 1.716983  [25600/60000]\n",
            "loss: 1.668361  [32000/60000]\n",
            "loss: 1.684486  [38400/60000]\n",
            "loss: 1.591605  [44800/60000]\n",
            "loss: 1.621162  [51200/60000]\n",
            "loss: 1.503565  [57600/60000]\n",
            "Test Error: \n",
            " Accuracy: 61.1%, Avg loss: 1.526652 \n",
            "\n",
            "Epoch 4\n",
            "-------------------------------\n",
            "loss: 1.599309  [    0/60000]\n",
            "loss: 1.566296  [ 6400/60000]\n",
            "loss: 1.412187  [12800/60000]\n",
            "loss: 1.479218  [19200/60000]\n",
            "loss: 1.362955  [25600/60000]\n",
            "loss: 1.353800  [32000/60000]\n",
            "loss: 1.372866  [38400/60000]\n",
            "loss: 1.294803  [44800/60000]\n",
            "loss: 1.337255  [51200/60000]\n",
            "loss: 1.232377  [57600/60000]\n",
            "Test Error: \n",
            " Accuracy: 63.8%, Avg loss: 1.256171 \n",
            "\n",
            "Epoch 5\n",
            "-------------------------------\n",
            "loss: 1.332974  [    0/60000]\n",
            "loss: 1.318480  [ 6400/60000]\n",
            "loss: 1.150413  [12800/60000]\n",
            "loss: 1.255623  [19200/60000]\n",
            "loss: 1.128314  [25600/60000]\n",
            "loss: 1.147510  [32000/60000]\n",
            "loss: 1.177960  [38400/60000]\n",
            "loss: 1.109096  [44800/60000]\n",
            "loss: 1.156478  [51200/60000]\n",
            "loss: 1.069754  [57600/60000]\n",
            "Test Error: \n",
            " Accuracy: 65.1%, Avg loss: 1.086581 \n",
            "\n",
            "Epoch 6\n",
            "-------------------------------\n",
            "loss: 1.154161  [    0/60000]\n",
            "loss: 1.159597  [ 6400/60000]\n",
            "loss: 0.978046  [12800/60000]\n",
            "loss: 1.114968  [19200/60000]\n",
            "loss: 0.983694  [25600/60000]\n",
            "loss: 1.011436  [32000/60000]\n",
            "loss: 1.056219  [38400/60000]\n",
            "loss: 0.991454  [44800/60000]\n",
            "loss: 1.040035  [51200/60000]\n",
            "loss: 0.967489  [57600/60000]\n",
            "Test Error: \n",
            " Accuracy: 65.9%, Avg loss: 0.978182 \n",
            "\n",
            "Epoch 7\n",
            "-------------------------------\n",
            "loss: 1.032165  [    0/60000]\n",
            "loss: 1.057613  [ 6400/60000]\n",
            "loss: 0.861701  [12800/60000]\n",
            "loss: 1.021787  [19200/60000]\n",
            "loss: 0.893645  [25600/60000]\n",
            "loss: 0.917785  [32000/60000]\n",
            "loss: 0.976655  [38400/60000]\n",
            "loss: 0.915925  [44800/60000]\n",
            "loss: 0.961324  [51200/60000]\n",
            "loss: 0.900178  [57600/60000]\n",
            "Test Error: \n",
            " Accuracy: 67.0%, Avg loss: 0.905578 \n",
            "\n",
            "Epoch 8\n",
            "-------------------------------\n",
            "loss: 0.944213  [    0/60000]\n",
            "loss: 0.988327  [ 6400/60000]\n",
            "loss: 0.780012  [12800/60000]\n",
            "loss: 0.956527  [19200/60000]\n",
            "loss: 0.834480  [25600/60000]\n",
            "loss: 0.851019  [32000/60000]\n",
            "loss: 0.921271  [38400/60000]\n",
            "loss: 0.866388  [44800/60000]\n",
            "loss: 0.905864  [51200/60000]\n",
            "loss: 0.853128  [57600/60000]\n",
            "Test Error: \n",
            " Accuracy: 68.1%, Avg loss: 0.854391 \n",
            "\n",
            "Epoch 9\n",
            "-------------------------------\n",
            "loss: 0.877829  [    0/60000]\n",
            "loss: 0.937604  [ 6400/60000]\n",
            "loss: 0.720345  [12800/60000]\n",
            "loss: 0.908911  [19200/60000]\n",
            "loss: 0.792998  [25600/60000]\n",
            "loss: 0.801731  [32000/60000]\n",
            "loss: 0.879747  [38400/60000]\n",
            "loss: 0.832421  [44800/60000]\n",
            "loss: 0.864920  [51200/60000]\n",
            "loss: 0.818006  [57600/60000]\n",
            "Test Error: \n",
            " Accuracy: 69.2%, Avg loss: 0.816222 \n",
            "\n",
            "Epoch 10\n",
            "-------------------------------\n",
            "loss: 0.825544  [    0/60000]\n",
            "loss: 0.898037  [ 6400/60000]\n",
            "loss: 0.674777  [12800/60000]\n",
            "loss: 0.872726  [19200/60000]\n",
            "loss: 0.762026  [25600/60000]\n",
            "loss: 0.764157  [32000/60000]\n",
            "loss: 0.846403  [38400/60000]\n",
            "loss: 0.807614  [44800/60000]\n",
            "loss: 0.833236  [51200/60000]\n",
            "loss: 0.790197  [57600/60000]\n",
            "Test Error: \n",
            " Accuracy: 70.4%, Avg loss: 0.786192 \n",
            "\n",
            "Done!\n"
          ]
        }
      ],
      "source": [
        "loss_fn = nn.CrossEntropyLoss()\n",
        "optimizer = torch.optim.SGD(model.parameters(), lr=learning_rate)\n",
        "\n",
        "epochs = 10\n",
        "for t in range(epochs):\n",
        "    print(f\"Epoch {t+1}\\n-------------------------------\")\n",
        "    train_loop(train_dataloader, model, loss_fn, optimizer)\n",
        "    test_loop(test_dataloader, model, loss_fn)\n",
        "print(\"Done!\")"
      ]
    },
    {
      "attachments": {},
      "cell_type": "markdown",
      "metadata": {},
      "source": [
        "## Loss Functions\n",
        "- [Loss Functions](https://pytorch.org/docs/stable/nn.html#loss-functions)\n",
        "\n",
        "### MSELOSS\n",
        "入力$x$とターゲット$y$の各要素間の平均二乗誤差（L2ノルムの二乗）を測定する基準を作成します。\n",
        "\n",
        "次元を維持する（reduction='none'）場合は、以下のように記述することができます。ここで $N$ はバッチサイズです。\n",
        "\n",
        "$\\ell(x, y) = L = \\{l_1,\\dots,l_N\\}^\\top, \\quad l_n = \\left( x_n - y_n \\right)^2$ \n",
        "\n",
        "reductionを'none' ではない場合(デフォルトは'mean')は以下のように記述できます。\n",
        "\n",
        "$\\ell(x, y) = \\begin{cases} \\operatorname{mean}(L), & \\text{if reduction} = \\text{`mean';}\\\\ \\operatorname{sum}(L), & \\text{if reduction} = \\text{`sum'.} \\end{cases}$\n",
        " \n",
        "$x$と$y$はそれぞれ合計$n$個の要素を持つ任意の形のテンソルです。\n",
        "\n",
        "平均演算はやはり全要素に対して行われ、$n$で除算されます。\n",
        "\n",
        "reduction = 'sum' とすれば，$n$による除算を避けることができます。\n",
        "\n",
        "\n",
        "### NLLLoss\n",
        "負の対数尤度損失（Negative Log Likelihood Loss）。C個のクラスからなる分類問題を学習するのに有用です。\n",
        "\n",
        "オプションの引数 weight は、各クラスに重みを割り当てる 1次元テンソルでなければなりません。これは，アンバランスな学習セットを持っている場合に特に有用です。\n",
        "\n",
        "inputは、( $minibatch, C$ )または( $minibatch, C, d_1, d_2, ..., d_K$ )のいずれかのサイズのTensorでなければならず、K次元の場合は $K \\geq 1$ でなければならない。後者は、2次元画像の画素あたりのNLLLOSSを計算するような高次元の入力に有効である。\n",
        "\n",
        "ニューラルネットワークで対数確率を得るには、ネットワークの最後の層にLogSoftmax層を追加することで簡単に実現できます。余分なレイヤーを追加したくない場合は、代わりにCrossEntropyLossを使用することができます。\n",
        "\n",
        "この損失が期待するターゲットは、$[0, C-1]$ (C = クラス数) の範囲にあるクラスインデックスでなければなりません。\n",
        "\n",
        "また、ignore_indexが指定された場合、この損失はこのクラスインデックスを受け付けます (このインデックスは必ずしもクラスの範囲内でなくても構いません)。\n",
        "\n",
        "$x$がinput, $y$がtarget, $w$がweight, $N$はバッチサイズ.\n",
        "\n",
        "$\\ell(x, y) = L = \\{l_1,\\dots,l_N\\}^\\top, \\quad l_n = - w_{y_n} x_{n,y_n}, \\quad w_{c} = \\text{weight}[c] \\cdot \\mathbb{1}\\{c \\not= \\text{ignore\\_index}\\}$,\n",
        "\n",
        "reductionを'none' ではない場合(デフォルトは'mean')は以下のように記述できます。\n",
        "\n",
        "$\\ell(x, y) = \\begin{cases} \\sum_{n=1}^N \\frac{1}{\\sum_{n=1}^N w_{y_n}} l_n, & \\text{if reduction} = \\text{`mean';}\\\\ \\sum_{n=1}^N l_n, & \\text{if reduction} = \\text{`sum'.} \\end{cases}$\n",
        "\n",
        "### CrossEntropyLoss\n",
        "\n",
        "入力ロジットとターゲット間のクロスエントロピーの損失を計算する。\n",
        "\n",
        "これは、C個のクラスを持つ分類問題を学習するときに有用である。オプションの引数weightは、各クラスに重みを割り当てる1次元テンソルでなければなりません。これは，アンバランスな学習セットを持っている場合に特に有用である．\n",
        "\n",
        "入力は、各クラスの非正規化ロジット（一般に、正であったり、和が1になる必要はない）を含むことが期待される。 inputは、バッチされていないinputではサイズ ($C$)、K次元の場合には$Kを1$とした ($minibatch, C$) または ($minibatch, C, d_1, d_2, ..., d_K$) のTensorでなければならない。最後に、2次元画像のピクセル毎のクロスエントロピー損失を計算するような高次元の入力に有用である。\n",
        "\n",
        "この基準が期待するtargetは、以下のいずれかを含むべきである。\n",
        "\n",
        "- $[0, C)$ ($C$ はクラス数); ignore_index が指定された場合、この損失はこのクラスインデックスも受け入れます（このインデックスは必ずしもクラス範囲内にあるとは限りません）。この場合の未削減(つまり削減を'なし'に設定した場合)の損失は次のように記述できる。\n",
        "\n",
        "  ここで$x$は入力、$y$はターゲット、$w$は重み、$C$はクラス数、$N$はミニバッチ次元と$K$次元の場合の$d_1, ..., d_{kd}$にまたがるものである。\n",
        "    \n",
        "  $\\ell(x, y) = L = \\{l_1,\\dots,l_N\\}^\\top, \\quad l_n = - w_{y_n} \\log \\frac{\\exp(x_{n,y_n})}{\\sum_{c=1}^C \\exp(x_{n,c})}\\cdot \\mathbb{1}\\{y_n \\not= \\text{ignore\\_index}\\}$\n",
        "\n",
        "  reductionが'none'でない場合(デフォルトは'mean')は以下のように記述できる。\n",
        "\n",
        "  $\\ell(x, y) = \\begin{cases} \\sum_{n=1}^N \\frac{1}{\\sum_{n=1}^N w_{y_n} \\cdot \\mathbb{1}\\{y_n \\not= \\text{ignore\\_index}\\}} l_n, & \\text{if reduction} = \\text{`mean';}\\\\ \\sum_{n=1}^N l_n, & \\text{if reduction} = \\text{`sum'.} \\end{cases} $\n",
        " \n",
        "  この場合、LogSoftmaxとNLLLossの組み合わせと同等であることに注意してください。\n",
        "\n",
        "- 各クラスの確率；混合ラベル、ラベルスムージングなど、ミニバッチアイテムごとに単一クラス以上のラベルが必要な場合に有用。この場合の未削減（つまり、削減を「なし」に設定した場合）の損失は、次のように記述できる。\n",
        "\n",
        "  ここで、$x$は入力、$y$はターゲット、$w$は重み、$C$はクラス数、$N$はミニバッチ次元とK次元の場合の$d_1, ..., d_kd$にまたがる。\n",
        "\n",
        "  $\\ell(x, y) = L = \\{l_1,\\dots,l_N\\}^\\top, \\quad l_n = - \\sum_{c=1}^C w_c \\log \\frac{\\exp(x_{n,c})}{\\sum_{i=1}^C \\exp(x_{n,i})} y_{n,c}$​\n",
        "\n",
        "  reductionが'none'でない場合(デフォルトは'mean')は以下のように記述できる。\n",
        "\n",
        "  $\\ell(x, y) = \\begin{cases} \\frac{\\sum_{n=1}^N l_n}{N}, & \\text{if reduction} = \\text{`mean';}\\\\ \\sum_{n=1}^N l_n, & \\text{if reduction} = \\text{`sum'.} \\end{cases}$"
      ]
    },
    {
      "attachments": {},
      "cell_type": "markdown",
      "metadata": {},
      "source": [
        "# torchtext ライブラリを使ったテキスト分類\n",
        "\n",
        "このチュートリアルでは、テキスト分類分析のためのデータセットを構築するために torchtext ライブラリを使用する方法を紹介します。ユーザは以下のような柔軟性を持つことができます。\n",
        "\n",
        "   - イテレータとして生データにアクセスする\n",
        "   - データ処理パイプラインを構築して、生のテキスト文字列を ``torch.Tensor`` に変換し、モデルの学習に使用する。\n",
        "   - [torch.utils.data.DataLoader](https://pytorch.org/docs/stable/data.html?highlight=dataloader#torch.utils.data.DataLoader) を使ってデータをシャッフルし、反復処理する。\n"
      ]
    },
    {
      "attachments": {},
      "cell_type": "markdown",
      "metadata": {},
      "source": [
        "## 生のデータセットイテレータへのアクセス\n",
        "\n",
        "torchtext ライブラリには、生のテキスト文字列を返す生のデータセットイテレータがいくつか用意されています。例えば、 ``AG_NEWS`` データセットイテレータは、ラベルとテキストのタプルとして生データを得ることができる。\n",
        "\n",
        "torchtextのデータセットにアクセスするには、https://github.com/pytorch/data の説明に従ってtorchdataをインストールしてください。\n"
      ]
    },
    {
      "cell_type": "code",
      "execution_count": 1,
      "metadata": {
        "collapsed": false
      },
      "outputs": [],
      "source": [
        "import torch\n",
        "from torchtext.datasets import AG_NEWS\n",
        "train_iter = iter(AG_NEWS(split='train'))"
      ]
    },
    {
      "cell_type": "code",
      "execution_count": 2,
      "metadata": {},
      "outputs": [
        {
          "data": {
            "text/plain": [
              "(3,\n",
              " \"Wall St. Bears Claw Back Into the Black (Reuters) Reuters - Short-sellers, Wall Street's dwindling\\\\band of ultra-cynics, are seeing green again.\")"
            ]
          },
          "execution_count": 2,
          "metadata": {},
          "output_type": "execute_result"
        }
      ],
      "source": [
        "next(train_iter)"
      ]
    },
    {
      "attachments": {},
      "cell_type": "markdown",
      "metadata": {},
      "source": [
        "## データ処理パイプラインを用意する\n",
        "\n",
        "ボキャブラリー、ワードベクター、トークナイザーなど、torchtextライブラリの非常に基本的な構成要素について再確認しました。これらは生のテキスト文字列に対する基本的なデータ処理のビルディングブロックです。\n",
        "\n",
        "ここでは、トークナイザーとボキャブラリーを使った典型的な自然言語処理例を紹介します。まず、生の学習データセットから語彙を作る。ここでは、ビルトインの\n",
        "ファクトリー関数 `build_vocab_from_iterator` を使う。この関数では、トークンのリストかイテレータを受け取る。また、語彙に追加する特殊なシンボルを渡すこともできる。\n",
        "語彙に追加する特別な記号を渡すこともできる。\n",
        "\n"
      ]
    },
    {
      "cell_type": "code",
      "execution_count": null,
      "metadata": {
        "collapsed": false
      },
      "outputs": [],
      "source": [
        "from torchtext.data.utils import get_tokenizer\n",
        "from torchtext.vocab import build_vocab_from_iterator\n",
        "\n",
        "tokenizer = get_tokenizer('basic_english')\n",
        "train_iter = AG_NEWS(split='train')\n",
        "\n",
        "def yield_tokens(data_iter):\n",
        "    for _, text in data_iter:\n",
        "        yield tokenizer(text)\n",
        "\n",
        "vocab = build_vocab_from_iterator(yield_tokens(train_iter), specials=[\"<unk>\"])\n",
        "vocab.set_default_index(vocab[\"<unk>\"])"
      ]
    },
    {
      "attachments": {},
      "cell_type": "markdown",
      "metadata": {},
      "source": [
        "vocabularyブロックは，トークンのリストを整数に変換する。\n",
        "::\n",
        "\n",
        "    vocab(['here', 'is', 'an', 'example'])\n",
        "    >>> [475, 21, 30, 5297]\n",
        "\n",
        "トークナイザーとボキャブラリーでテキスト処理パイプラインを準備します。テキストパイプラインとラベルパイプラインは、データセットイテレータからの生データ文字列を処理するために使用されます。\n"
      ]
    },
    {
      "cell_type": "code",
      "execution_count": null,
      "metadata": {
        "collapsed": false
      },
      "outputs": [],
      "source": [
        "text_pipeline = lambda x: vocab(tokenizer(x))\n",
        "label_pipeline = lambda x: int(x) - 1"
      ]
    },
    {
      "attachments": {},
      "cell_type": "markdown",
      "metadata": {},
      "source": [
        "テキストパイプラインは，語彙に定義されたルックアップテーブルに基づいて，文字列を整数のリストに変換する．ラベルパイプラインは、ラベルを整数に変換する。例えば\n",
        "\n",
        "::\n",
        "\n",
        "    text_pipeline('here is the an example')\n",
        "    >>> [475, 21, 2, 30, 5297]\n",
        "    label_pipeline('10')\n",
        "    >>> 9\n",
        "\n",
        "\n"
      ]
    },
    {
      "attachments": {},
      "cell_type": "markdown",
      "metadata": {},
      "source": [
        "## データバッチとイテレータを生成する\n",
        "\n",
        "データローダー（DataLoader）は ``getitem()`` と ``len()`` プロトコルを実装したマップ形式のデータセットで動作し、インデックス/キーからデータサンプルへのマップを表現します。また、引数として ``False`` を指定した、反復処理可能なデータセットでも動作します。\n",
        "\n",
        "モデルに送信する前に、 ``collate_fn`` 関数は ``DataLoader`` から生成されたサンプルのバッチを処理する。``collate_fn`` への入力は ``DataLoader`` にあるバッチサイズのデータであり、 ``collate_fn`` は先に宣言したデータ処理パイプラインに従ってそれらを処理する。ここで注意してほしいのは、 ``collate_fn`` がトップレベルの def として宣言されていることだ。 これにより、この関数が各ワーカーで利用できるようになる。\n",
        "\n",
        "この例では、元のデータバッチの入力に含まれるテキストエントリーをリストにパックし、一つのテンソルとして連結して ``nn.EmbeddingBag`` の入力とします。offsetはテキストテンソル中の個々のシーケンスの開始インデックスを表すデリミタのテンソルである。ラベルは個々のテキストエントリのラベルを保存したテンソルである。"
      ]
    },
    {
      "cell_type": "code",
      "execution_count": null,
      "metadata": {
        "collapsed": false
      },
      "outputs": [],
      "source": [
        "from torch.utils.data import DataLoader\n",
        "device = torch.device(\"cuda\" if torch.cuda.is_available() else \"cpu\")\n",
        "\n",
        "def collate_batch(batch):\n",
        "    label_list, text_list, offsets = [], [], [0]\n",
        "    for (_label, _text) in batch:\n",
        "         label_list.append(label_pipeline(_label))\n",
        "         processed_text = torch.tensor(text_pipeline(_text), dtype=torch.int64)\n",
        "         text_list.append(processed_text)\n",
        "         offsets.append(processed_text.size(0))\n",
        "    label_list = torch.tensor(label_list, dtype=torch.int64)\n",
        "    offsets = torch.tensor(offsets[:-1]).cumsum(dim=0)\n",
        "    text_list = torch.cat(text_list)\n",
        "    return label_list.to(device), text_list.to(device), offsets.to(device)\n",
        "\n",
        "train_iter = AG_NEWS(split='train')\n",
        "dataloader = DataLoader(train_iter, batch_size=8, shuffle=False, collate_fn=collate_batch)"
      ]
    },
    {
      "attachments": {},
      "cell_type": "markdown",
      "metadata": {},
      "source": [
        "## モデルの定義\n",
        "\n",
        "モデルは [nn.EmbeddingBag](https://pytorch.org/docs/stable/nn.html?highlight=embeddingbag#torch.nn.EmbeddingBag)レイヤーと、分類を目的とした線形レイヤーから構成されます。``nn.EmbeddingBag``はデフォルトのモードが \"mean \"で、埋め込みの \"bag \"の平均値を計算する。ここでは、テキストのエントリは異なる長さを持っていますが、テキストの長さはオフセットで保存されているので、nn.EmbeddingBagモジュールはここでパディングを必要としません。\n",
        "\n",
        "さらに、``nn.EmbeddingBag`` は埋め込み全体の平均をその場で蓄積するので、パディングは必要ありません。\n",
        "さらに、``nn.EmbeddingBag`` は、埋め込み全体の平均をオンザフライで蓄積するため、一連の処理を行う際のパフォーマンスとメモリ効率を向上させることができる。"
      ]
    },
    {
      "cell_type": "code",
      "execution_count": null,
      "metadata": {
        "collapsed": false
      },
      "outputs": [],
      "source": [
        "from torch import nn\n",
        "\n",
        "class TextClassificationModel(nn.Module):\n",
        "\n",
        "    def __init__(self, vocab_size, embed_dim, num_class):\n",
        "        super(TextClassificationModel, self).__init__()\n",
        "        self.embedding = nn.EmbeddingBag(vocab_size, embed_dim, sparse=True)\n",
        "        self.fc = nn.Linear(embed_dim, num_class)\n",
        "        self.init_weights()\n",
        "\n",
        "    def init_weights(self):\n",
        "        initrange = 0.5\n",
        "        self.embedding.weight.data.uniform_(-initrange, initrange)\n",
        "        self.fc.weight.data.uniform_(-initrange, initrange)\n",
        "        self.fc.bias.data.zero_()\n",
        "\n",
        "    def forward(self, text, offsets):\n",
        "        embedded = self.embedding(text, offsets)\n",
        "        return self.fc(embedded)"
      ]
    },
    {
      "attachments": {},
      "cell_type": "markdown",
      "metadata": {},
      "source": [
        "## インスタンスを起動する\n",
        "\n",
        "``AG_NEWS`` のデータセットには4つのラベルがあり、したがってクラスの数は4である。\n",
        "\n",
        "::\n",
        "\n",
        "   1 : 世界\n",
        "   2 : スポーツ\n",
        "   3 : ビジネス\n",
        "   4 : 科学/技術\n",
        "\n",
        "埋め込み次元を64としたモデルを構築する。vocab sizeはvocabulary instanceの長さと等しい。クラス数はラベルの数に等しい。"
      ]
    },
    {
      "cell_type": "code",
      "execution_count": null,
      "metadata": {
        "collapsed": false
      },
      "outputs": [],
      "source": [
        "train_iter = AG_NEWS(split='train')\n",
        "num_class = len(set([label for (label, text) in train_iter]))\n",
        "vocab_size = len(vocab)\n",
        "emsize = 64\n",
        "model = TextClassificationModel(vocab_size, emsize, num_class).to(device)"
      ]
    },
    {
      "attachments": {},
      "cell_type": "markdown",
      "metadata": {},
      "source": [
        "## モデルの学習と結果の評価のための関数を定義する。\n",
        "\n"
      ]
    },
    {
      "cell_type": "code",
      "execution_count": null,
      "metadata": {
        "collapsed": false
      },
      "outputs": [],
      "source": [
        "import time\n",
        "\n",
        "def train(dataloader):\n",
        "    model.train()\n",
        "    total_acc, total_count = 0, 0\n",
        "    log_interval = 500\n",
        "    start_time = time.time()\n",
        "\n",
        "    for idx, (label, text, offsets) in enumerate(dataloader):\n",
        "        optimizer.zero_grad()\n",
        "        predicted_label = model(text, offsets)\n",
        "        loss = criterion(predicted_label, label)\n",
        "        loss.backward()\n",
        "        torch.nn.utils.clip_grad_norm_(model.parameters(), 0.1)\n",
        "        optimizer.step()\n",
        "        total_acc += (predicted_label.argmax(1) == label).sum().item()\n",
        "        total_count += label.size(0)\n",
        "        if idx % log_interval == 0 and idx > 0:\n",
        "            elapsed = time.time() - start_time\n",
        "            print('| epoch {:3d} | {:5d}/{:5d} batches '\n",
        "                  '| accuracy {:8.3f}'.format(epoch, idx, len(dataloader),\n",
        "                                              total_acc/total_count))\n",
        "            total_acc, total_count = 0, 0\n",
        "            start_time = time.time()\n",
        "\n",
        "def evaluate(dataloader):\n",
        "    model.eval()\n",
        "    total_acc, total_count = 0, 0\n",
        "\n",
        "    with torch.no_grad():\n",
        "        for idx, (label, text, offsets) in enumerate(dataloader):\n",
        "            predicted_label = model(text, offsets)\n",
        "            loss = criterion(predicted_label, label)\n",
        "            total_acc += (predicted_label.argmax(1) == label).sum().item()\n",
        "            total_count += label.size(0)\n",
        "    return total_acc/total_count"
      ]
    },
    {
      "attachments": {},
      "cell_type": "markdown",
      "metadata": {},
      "source": [
        "## データセットの分割とモデルの実行\n",
        "\n",
        "元の ``AG_NEWS`` には検証用データセットがないため、学習用データセットを分割する。\n",
        "データセットを訓練用と検証用に分割し、分割比率を 0.95 (train) と\n",
        "0.05 (valid) とする。ここで使用するのは\n",
        "[torch.utils.data.dataset.random_split](https://pytorch.org/docs/stable/data.html?highlight=random_split#torch.utils.data.random_split)というPyTorchのコアライブラリにある関数を使います。\n",
        "\n",
        "[CrossEntropyLoss](https://pytorch.org/docs/stable/nn.html?highlight=crossentropyloss#torch.nn.CrossEntropyLoss)を使用します。\n",
        "この基準は、 ``nn.LogSoftmax()`` と ``nn.NLLLoss()`` を1つのクラスに統合したものです。\n",
        "これは，C個のクラスからなる分類問題を学習するときに役立ちます．\n",
        "[SGD](https://pytorch.org/docs/stable/_modules/torch/optim/sgd.html)は、最適化手法として確率的勾配降下法を実装しています。初期学習率は 5.0 に設定されています。\n",
        "[ステップLR](https://pytorch.org/docs/master/_modules/torch/optim/lr_scheduler.html#StepLR)は、エポックを通して学習率を調整するために使用されます。"
      ]
    },
    {
      "cell_type": "code",
      "execution_count": null,
      "metadata": {
        "collapsed": false
      },
      "outputs": [
        {
          "name": "stdout",
          "output_type": "stream",
          "text": [
            "| epoch   1 |   500/ 1782 batches | accuracy    0.711\n",
            "| epoch   1 |  1000/ 1782 batches | accuracy    0.864\n",
            "| epoch   1 |  1500/ 1782 batches | accuracy    0.885\n",
            "-----------------------------------------------------------\n",
            "| end of epoch   1 | time:  5.65s | valid accuracy    0.858 \n",
            "-----------------------------------------------------------\n",
            "| epoch   2 |   500/ 1782 batches | accuracy    0.902\n",
            "| epoch   2 |  1000/ 1782 batches | accuracy    0.906\n",
            "| epoch   2 |  1500/ 1782 batches | accuracy    0.908\n",
            "-----------------------------------------------------------\n",
            "| end of epoch   2 | time:  5.45s | valid accuracy    0.868 \n",
            "-----------------------------------------------------------\n",
            "| epoch   3 |   500/ 1782 batches | accuracy    0.919\n",
            "| epoch   3 |  1000/ 1782 batches | accuracy    0.917\n",
            "| epoch   3 |  1500/ 1782 batches | accuracy    0.919\n",
            "-----------------------------------------------------------\n",
            "| end of epoch   3 | time:  5.45s | valid accuracy    0.898 \n",
            "-----------------------------------------------------------\n",
            "| epoch   4 |   500/ 1782 batches | accuracy    0.929\n",
            "| epoch   4 |  1000/ 1782 batches | accuracy    0.925\n",
            "| epoch   4 |  1500/ 1782 batches | accuracy    0.924\n",
            "-----------------------------------------------------------\n",
            "| end of epoch   4 | time:  5.51s | valid accuracy    0.902 \n",
            "-----------------------------------------------------------\n",
            "| epoch   5 |   500/ 1782 batches | accuracy    0.934\n",
            "| epoch   5 |  1000/ 1782 batches | accuracy    0.933\n",
            "| epoch   5 |  1500/ 1782 batches | accuracy    0.929\n",
            "-----------------------------------------------------------\n",
            "| end of epoch   5 | time:  5.51s | valid accuracy    0.895 \n",
            "-----------------------------------------------------------\n",
            "| epoch   6 |   500/ 1782 batches | accuracy    0.951\n",
            "| epoch   6 |  1000/ 1782 batches | accuracy    0.949\n",
            "| epoch   6 |  1500/ 1782 batches | accuracy    0.951\n",
            "-----------------------------------------------------------\n",
            "| end of epoch   6 | time:  5.46s | valid accuracy    0.905 \n",
            "-----------------------------------------------------------\n",
            "| epoch   7 |   500/ 1782 batches | accuracy    0.951\n",
            "| epoch   7 |  1000/ 1782 batches | accuracy    0.952\n",
            "| epoch   7 |  1500/ 1782 batches | accuracy    0.952\n",
            "-----------------------------------------------------------\n",
            "| end of epoch   7 | time:  5.42s | valid accuracy    0.907 \n",
            "-----------------------------------------------------------\n",
            "| epoch   8 |   500/ 1782 batches | accuracy    0.953\n",
            "| epoch   8 |  1000/ 1782 batches | accuracy    0.952\n",
            "| epoch   8 |  1500/ 1782 batches | accuracy    0.953\n",
            "-----------------------------------------------------------\n",
            "| end of epoch   8 | time:  5.39s | valid accuracy    0.907 \n",
            "-----------------------------------------------------------\n",
            "| epoch   9 |   500/ 1782 batches | accuracy    0.954\n",
            "| epoch   9 |  1000/ 1782 batches | accuracy    0.953\n",
            "| epoch   9 |  1500/ 1782 batches | accuracy    0.954\n",
            "-----------------------------------------------------------\n",
            "| end of epoch   9 | time:  5.42s | valid accuracy    0.907 \n",
            "-----------------------------------------------------------\n",
            "| epoch  10 |   500/ 1782 batches | accuracy    0.957\n",
            "| epoch  10 |  1000/ 1782 batches | accuracy    0.954\n",
            "| epoch  10 |  1500/ 1782 batches | accuracy    0.956\n",
            "-----------------------------------------------------------\n",
            "| end of epoch  10 | time:  5.42s | valid accuracy    0.908 \n",
            "-----------------------------------------------------------\n"
          ]
        }
      ],
      "source": [
        "from torch.utils.data.dataset import random_split\n",
        "from torchtext.data.functional import to_map_style_dataset\n",
        "# Hyperparameters\n",
        "EPOCHS = 10 # epoch\n",
        "LR = 5  # learning rate\n",
        "BATCH_SIZE = 64 # batch size for training\n",
        "\n",
        "criterion = torch.nn.CrossEntropyLoss()\n",
        "optimizer = torch.optim.SGD(model.parameters(), lr=LR)\n",
        "scheduler = torch.optim.lr_scheduler.StepLR(optimizer, 1.0, gamma=0.1)\n",
        "total_accu = None\n",
        "train_iter, test_iter = AG_NEWS()\n",
        "train_dataset = to_map_style_dataset(train_iter)\n",
        "test_dataset = to_map_style_dataset(test_iter)\n",
        "num_train = int(len(train_dataset) * 0.95)\n",
        "split_train_, split_valid_ = \\\n",
        "    random_split(train_dataset, [num_train, len(train_dataset) - num_train])\n",
        "\n",
        "train_dataloader = DataLoader(split_train_, batch_size=BATCH_SIZE,\n",
        "                              shuffle=True, collate_fn=collate_batch)\n",
        "valid_dataloader = DataLoader(split_valid_, batch_size=BATCH_SIZE,\n",
        "                              shuffle=True, collate_fn=collate_batch)\n",
        "test_dataloader = DataLoader(test_dataset, batch_size=BATCH_SIZE,\n",
        "                             shuffle=True, collate_fn=collate_batch)\n",
        "\n",
        "for epoch in range(1, EPOCHS + 1):\n",
        "    epoch_start_time = time.time()\n",
        "    train(train_dataloader)\n",
        "    accu_val = evaluate(valid_dataloader)\n",
        "    if total_accu is not None and total_accu > accu_val:\n",
        "      scheduler.step()\n",
        "    else:\n",
        "       total_accu = accu_val\n",
        "    print('-' * 59)\n",
        "    print('| end of epoch {:3d} | time: {:5.2f}s | '\n",
        "          'valid accuracy {:8.3f} '.format(epoch,\n",
        "                                           time.time() - epoch_start_time,\n",
        "                                           accu_val))\n",
        "    print('-' * 59)"
      ]
    },
    {
      "attachments": {},
      "cell_type": "markdown",
      "metadata": {},
      "source": [
        "## テストデータセットでモデルを評価する\n",
        "\n"
      ]
    },
    {
      "attachments": {},
      "cell_type": "markdown",
      "metadata": {},
      "source": [
        "テストデータセットの結果を確認する...\n"
      ]
    },
    {
      "cell_type": "code",
      "execution_count": null,
      "metadata": {
        "collapsed": false
      },
      "outputs": [
        {
          "name": "stdout",
          "output_type": "stream",
          "text": [
            "Checking the results of test dataset.\n",
            "test accuracy    0.907\n"
          ]
        }
      ],
      "source": [
        "print('Checking the results of test dataset.')\n",
        "accu_test = evaluate(test_dataloader)\n",
        "print('test accuracy {:8.3f}'.format(accu_test))"
      ]
    },
    {
      "attachments": {},
      "cell_type": "markdown",
      "metadata": {},
      "source": [
        "## ランダムなニュースでテストする\n",
        "\n",
        "今までの最適なモデルを使って、ゴルフのニュースをテストしてみましょう。\n",
        "\n",
        "\n"
      ]
    },
    {
      "cell_type": "code",
      "execution_count": null,
      "metadata": {
        "collapsed": false
      },
      "outputs": [
        {
          "name": "stdout",
          "output_type": "stream",
          "text": [
            "This is a Sports news\n"
          ]
        }
      ],
      "source": [
        "ag_news_label = {1: \"World\",\n",
        "                 2: \"Sports\",\n",
        "                 3: \"Business\",\n",
        "                 4: \"Sci/Tec\"}\n",
        "\n",
        "def predict(text, text_pipeline):\n",
        "    with torch.no_grad():\n",
        "        text = torch.tensor(text_pipeline(text))\n",
        "        output = model(text, torch.tensor([0]))\n",
        "        return output.argmax(1).item() + 1\n",
        "\n",
        "ex_text_str = \"MEMPHIS, Tenn. – Four days ago, Jon Rahm was \\\n",
        "    enduring the season’s worst weather conditions on Sunday at The \\\n",
        "    Open on his way to a closing 75 at Royal Portrush, which \\\n",
        "    considering the wind and the rain was a respectable showing. \\\n",
        "    Thursday’s first round at the WGC-FedEx St. Jude Invitational \\\n",
        "    was another story. With temperatures in the mid-80s and hardly any \\\n",
        "    wind, the Spaniard was 13 strokes better in a flawless round. \\\n",
        "    Thanks to his best putting performance on the PGA Tour, Rahm \\\n",
        "    finished with an 8-under 62 for a three-stroke lead, which \\\n",
        "    was even more impressive considering he’d never played the \\\n",
        "    front nine at TPC Southwind.\"\n",
        "\n",
        "model = model.to(\"cpu\")\n",
        "\n",
        "print(\"This is a %s news\" %ag_news_label[predict(ex_text_str, text_pipeline)])"
      ]
    }
  ],
  "metadata": {
    "kernelspec": {
      "display_name": ".venv",
      "language": "python",
      "name": "python3"
    },
    "language_info": {
      "codemirror_mode": {
        "name": "ipython",
        "version": 3
      },
      "file_extension": ".py",
      "mimetype": "text/x-python",
      "name": "python",
      "nbconvert_exporter": "python",
      "pygments_lexer": "ipython3",
      "version": "3.9.6 (default, Sep 26 2022, 11:37:49) \n[Clang 14.0.0 (clang-1400.0.29.202)]"
    },
    "vscode": {
      "interpreter": {
        "hash": "eaac4ee8e735b6cee17c1b0358cfc8773b6176eb143c6cf3f1e52e7612ffbee2"
      }
    }
  },
  "nbformat": 4,
  "nbformat_minor": 0
}
