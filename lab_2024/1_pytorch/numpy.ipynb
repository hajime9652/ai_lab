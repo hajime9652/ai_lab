{
 "cells": [
  {
   "cell_type": "markdown",
   "metadata": {},
   "source": [
    "### 基本的な配列操作"
   ]
  },
  {
   "cell_type": "code",
   "execution_count": 2,
   "metadata": {},
   "outputs": [
    {
     "name": "stdout",
     "output_type": "stream",
     "text": [
      "配列: [1 2 3 4 5]\n",
      "形状: (5,)\n",
      "データ型: int64\n",
      "最初の要素: 1\n",
      "最後の要素: 5\n",
      "最初の3つの要素: [1 2 3]\n"
     ]
    }
   ],
   "source": [
    "import numpy as np\n",
    "\n",
    "# 配列の作成\n",
    "arr = np.array([1, 2, 3, 4, 5])\n",
    "print(\"配列:\", arr)\n",
    "\n",
    "# 配列の形状とデータ型\n",
    "print(\"形状:\", arr.shape)\n",
    "print(\"データ型:\", arr.dtype)\n",
    "\n",
    "# 配列の要素にアクセス\n",
    "print(\"最初の要素:\", arr[0])\n",
    "print(\"最後の要素:\", arr[-1])\n",
    "\n",
    "# 配列のスライス\n",
    "print(\"最初の3つの要素:\", arr[:3])"
   ]
  },
  {
   "cell_type": "markdown",
   "metadata": {},
   "source": [
    "### 配列の数学演算"
   ]
  },
  {
   "cell_type": "code",
   "execution_count": 3,
   "metadata": {},
   "outputs": [
    {
     "name": "stdout",
     "output_type": "stream",
     "text": [
      "配列に2を加算: [3 4 5 6 7]\n",
      "配列を2で乗算: [ 2  4  6  8 10]\n",
      "配列同士の加算: [6 6 6 6 6]\n",
      "配列同士の積: [5 8 9 8 5]\n",
      "平均: 3.0\n",
      "標準偏差: 1.4142135623730951\n"
     ]
    }
   ],
   "source": [
    "import numpy as np\n",
    "\n",
    "# 配列の作成\n",
    "arr = np.array([1, 2, 3, 4, 5])\n",
    "\n",
    "# 配列に対する基本的な数学演算\n",
    "print(\"配列に2を加算:\", arr + 2)\n",
    "print(\"配列を2で乗算:\", arr * 2)\n",
    "\n",
    "# 配列同士の演算\n",
    "arr2 = np.array([5, 4, 3, 2, 1])\n",
    "print(\"配列同士の加算:\", arr + arr2)\n",
    "print(\"配列同士の積:\", arr * arr2)\n",
    "\n",
    "# 統計関数の使用\n",
    "print(\"平均:\", np.mean(arr))\n",
    "print(\"標準偏差:\", np.std(arr))"
   ]
  },
  {
   "cell_type": "markdown",
   "metadata": {},
   "source": [
    "### 形状変更と多次元配列"
   ]
  },
  {
   "cell_type": "code",
   "execution_count": 14,
   "metadata": {},
   "outputs": [
    {
     "name": "stdout",
     "output_type": "stream",
     "text": [
      "2次元配列:\n",
      "[[1 2 3]\n",
      " [4 5 6]]\n",
      "shape: (2, 3)\n",
      "形状変更後の配列\n",
      "[[1 2]\n",
      " [3 4]\n",
      " [5 6]]\n",
      "shape:  (3, 2)\n",
      "3次元配列\n",
      "[[[1 2]\n",
      "  [3 4]]\n",
      "\n",
      " [[5 6]\n",
      "  [7 8]]]\n",
      "shape:  (2, 2, 2)\n"
     ]
    }
   ],
   "source": [
    "import numpy as np\n",
    "\n",
    "# 2次元配列の作成\n",
    "arr = np.array([[1, 2, 3], [4, 5, 6]])\n",
    "print(\"2次元配列:\")\n",
    "print(arr)\n",
    "print(f\"shape: {arr.shape}\")\n",
    "\n",
    "# 配列の形状変更\n",
    "reshaped = arr.reshape(3, 2)\n",
    "print(\"形状変更後の配列\")\n",
    "print(reshaped)\n",
    "print(\"shape: \", reshaped.shape)\n",
    "\n",
    "# 3次元配列の例\n",
    "arr_3d = np.array([[[1, 2], [3, 4]], [[5, 6], [7, 8]]])\n",
    "print(\"3次元配列\")\n",
    "print(arr_3d)\n",
    "print(\"shape: \", arr_3d.shape)"
   ]
  },
  {
   "cell_type": "markdown",
   "metadata": {},
   "source": [
    "## 行列演算\n",
    "\n",
    "### 基本的な演算"
   ]
  },
  {
   "cell_type": "code",
   "execution_count": 15,
   "metadata": {},
   "outputs": [
    {
     "name": "stdout",
     "output_type": "stream",
     "text": [
      "行列A:\n",
      " [[1 2]\n",
      " [3 4]]\n",
      "行列B:\n",
      " [[5 6]\n",
      " [7 8]]\n",
      "行列の加算 (A + B):\n",
      " [[ 6  8]\n",
      " [10 12]]\n",
      "行列の減算 (A - B):\n",
      " [[-4 -4]\n",
      " [-4 -4]]\n",
      "スカラー倍 (2 * A):\n",
      " [[2 4]\n",
      " [6 8]]\n"
     ]
    }
   ],
   "source": [
    "import numpy as np\n",
    "\n",
    "# 2x2行列の作成\n",
    "A = np.array([[1, 2], [3, 4]])\n",
    "B = np.array([[5, 6], [7, 8]])\n",
    "\n",
    "print(\"行列A:\\n\", A)\n",
    "print(\"行列B:\\n\", B)\n",
    "\n",
    "# 行列の加算\n",
    "C = A + B\n",
    "print(\"行列の加算 (A + B):\\n\", C)\n",
    "\n",
    "# 行列の減算\n",
    "D = A - B\n",
    "print(\"行列の減算 (A - B):\\n\", D)\n",
    "\n",
    "# スカラー倍\n",
    "E = 2 * A\n",
    "print(\"スカラー倍 (2 * A):\\n\", E)\n"
   ]
  },
  {
   "cell_type": "markdown",
   "metadata": {},
   "source": [
    "### 行列積と転置"
   ]
  },
  {
   "cell_type": "code",
   "execution_count": 16,
   "metadata": {},
   "outputs": [
    {
     "name": "stdout",
     "output_type": "stream",
     "text": [
      "行列積 (A * B):\n",
      " [[19 22]\n",
      " [43 50]]\n",
      "行列Aの転置:\n",
      " [[1 3]\n",
      " [2 4]]\n"
     ]
    }
   ],
   "source": [
    "# 行列積\n",
    "F = np.dot(A, B)\n",
    "print(\"行列積 (A * B):\\n\", F)\n",
    "\n",
    "# 行列の転置\n",
    "G = A.T\n",
    "print(\"行列Aの転置:\\n\", G)\n"
   ]
  },
  {
   "cell_type": "markdown",
   "metadata": {},
   "source": [
    "### 逆行列と行列式"
   ]
  },
  {
   "cell_type": "code",
   "execution_count": 17,
   "metadata": {},
   "outputs": [
    {
     "name": "stdout",
     "output_type": "stream",
     "text": [
      "行列Aの逆行列:\n",
      " [[-2.   1. ]\n",
      " [ 1.5 -0.5]]\n",
      "行列Aの行列式: -2.0000000000000004\n"
     ]
    }
   ],
   "source": [
    "# 逆行列\n",
    "H = np.linalg.inv(A)\n",
    "print(\"行列Aの逆行列:\\n\", H)\n",
    "\n",
    "# 行列式\n",
    "det_A = np.linalg.det(A)\n",
    "print(\"行列Aの行列式:\", det_A)\n"
   ]
  },
  {
   "cell_type": "markdown",
   "metadata": {},
   "source": [
    "### コサイン類似度"
   ]
  },
  {
   "cell_type": "code",
   "execution_count": 9,
   "metadata": {},
   "outputs": [
    {
     "name": "stdout",
     "output_type": "stream",
     "text": [
      "コサイン類似度: -1.0\n"
     ]
    }
   ],
   "source": [
    "import numpy as np\n",
    "\n",
    "v1 = np.array([1, 2, 3])\n",
    "v2 = np.array([-1, -2, -3])\n",
    "\n",
    "dot_product = np.dot(v1, v2)\n",
    "norm_v1 = np.linalg.norm(v1)\n",
    "norm_v2 = np.linalg.norm(v2)\n",
    "similarity = dot_product / (norm_v1 * norm_v2)\n",
    "\n",
    "print(\"コサイン類似度:\", similarity)\n"
   ]
  },
  {
   "cell_type": "markdown",
   "metadata": {},
   "source": []
  }
 ],
 "metadata": {
  "kernelspec": {
   "display_name": ".venv",
   "language": "python",
   "name": "python3"
  },
  "language_info": {
   "codemirror_mode": {
    "name": "ipython",
    "version": 3
   },
   "file_extension": ".py",
   "mimetype": "text/x-python",
   "name": "python",
   "nbconvert_exporter": "python",
   "pygments_lexer": "ipython3",
   "version": "3.9.6"
  }
 },
 "nbformat": 4,
 "nbformat_minor": 2
}
